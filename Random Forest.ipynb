{
 "cells": [
  {
   "cell_type": "code",
   "execution_count": 1,
   "metadata": {},
   "outputs": [],
   "source": [
    "import numpy as np\n",
    "import pandas as pd\n",
    "import matplotlib.pyplot as plt\n",
    "from sklearn.ensemble import RandomForestClassifier\n",
    "from sklearn.ensemble import RandomForestRegressor\n",
    "from sklearn import tree\n",
    "from sklearn.model_selection import GridSearchCV"
   ]
  },
  {
   "cell_type": "code",
   "execution_count": 2,
   "metadata": {},
   "outputs": [],
   "source": [
    "# Base de indicadores socioeconomicos\n",
    "df = pd.read_excel('base_dados_mundial.xlsx')"
   ]
  },
  {
   "cell_type": "code",
   "execution_count": 3,
   "metadata": {},
   "outputs": [],
   "source": [
    "df.set_index('Country Name',inplace=True)"
   ]
  },
  {
   "cell_type": "code",
   "execution_count": 4,
   "metadata": {},
   "outputs": [
    {
     "data": {
      "text/html": [
       "<div>\n",
       "<style scoped>\n",
       "    .dataframe tbody tr th:only-of-type {\n",
       "        vertical-align: middle;\n",
       "    }\n",
       "\n",
       "    .dataframe tbody tr th {\n",
       "        vertical-align: top;\n",
       "    }\n",
       "\n",
       "    .dataframe thead th {\n",
       "        text-align: right;\n",
       "    }\n",
       "</style>\n",
       "<table border=\"1\" class=\"dataframe\">\n",
       "  <thead>\n",
       "    <tr style=\"text-align: right;\">\n",
       "      <th></th>\n",
       "      <th>pib_percapita</th>\n",
       "      <th>individuos_usando_internet_perc</th>\n",
       "      <th>expectativa_vida</th>\n",
       "      <th>probabilidade_morte_criancas</th>\n",
       "      <th>taxa_desemprego</th>\n",
       "      <th>taxa_emprego_conta_propria</th>\n",
       "      <th>taxa_emprego_industria</th>\n",
       "      <th>dias_comecar_empresa</th>\n",
       "      <th>taxa_impostos_trabalho</th>\n",
       "      <th>gasto_saude_percapita</th>\n",
       "      <th>gasto_governo_educacao_perc</th>\n",
       "    </tr>\n",
       "    <tr>\n",
       "      <th>Country Name</th>\n",
       "      <th></th>\n",
       "      <th></th>\n",
       "      <th></th>\n",
       "      <th></th>\n",
       "      <th></th>\n",
       "      <th></th>\n",
       "      <th></th>\n",
       "      <th></th>\n",
       "      <th></th>\n",
       "      <th></th>\n",
       "      <th></th>\n",
       "    </tr>\n",
       "  </thead>\n",
       "  <tbody>\n",
       "    <tr>\n",
       "      <th>Afghanistan</th>\n",
       "      <td>513.549250</td>\n",
       "      <td>8.260000</td>\n",
       "      <td>64.1178</td>\n",
       "      <td>2.80</td>\n",
       "      <td>11.275000</td>\n",
       "      <td>7.134000</td>\n",
       "      <td>17.906</td>\n",
       "      <td>8.5</td>\n",
       "      <td>0.0</td>\n",
       "      <td>203.617393</td>\n",
       "      <td>3.310932</td>\n",
       "    </tr>\n",
       "    <tr>\n",
       "      <th>Albania</th>\n",
       "      <td>4756.248806</td>\n",
       "      <td>64.181345</td>\n",
       "      <td>78.3166</td>\n",
       "      <td>1.02</td>\n",
       "      <td>13.616667</td>\n",
       "      <td>45.185999</td>\n",
       "      <td>19.466</td>\n",
       "      <td>4.8</td>\n",
       "      <td>18.8</td>\n",
       "      <td>623.300247</td>\n",
       "      <td>3.739385</td>\n",
       "    </tr>\n",
       "    <tr>\n",
       "      <th>Algeria</th>\n",
       "      <td>3945.430875</td>\n",
       "      <td>47.075010</td>\n",
       "      <td>76.4920</td>\n",
       "      <td>1.78</td>\n",
       "      <td>11.656667</td>\n",
       "      <td>74.439999</td>\n",
       "      <td>30.838</td>\n",
       "      <td>18.0</td>\n",
       "      <td>31.1</td>\n",
       "      <td>988.297607</td>\n",
       "      <td>6.454113</td>\n",
       "    </tr>\n",
       "    <tr>\n",
       "      <th>Angola</th>\n",
       "      <td>3274.049995</td>\n",
       "      <td>32.200000</td>\n",
       "      <td>60.3262</td>\n",
       "      <td>11.30</td>\n",
       "      <td>7.198333</td>\n",
       "      <td>13.104000</td>\n",
       "      <td>7.188</td>\n",
       "      <td>36.0</td>\n",
       "      <td>9.0</td>\n",
       "      <td>179.651402</td>\n",
       "      <td>2.514920</td>\n",
       "    </tr>\n",
       "    <tr>\n",
       "      <th>Antigua and Barbuda</th>\n",
       "      <td>15486.105827</td>\n",
       "      <td>71.500000</td>\n",
       "      <td>76.7506</td>\n",
       "      <td>0.74</td>\n",
       "      <td>NaN</td>\n",
       "      <td>NaN</td>\n",
       "      <td>NaN</td>\n",
       "      <td>21.4</td>\n",
       "      <td>11.2</td>\n",
       "      <td>1269.123169</td>\n",
       "      <td>2.733426</td>\n",
       "    </tr>\n",
       "  </tbody>\n",
       "</table>\n",
       "</div>"
      ],
      "text/plain": [
       "                     pib_percapita  individuos_usando_internet_perc  \\\n",
       "Country Name                                                          \n",
       "Afghanistan             513.549250                         8.260000   \n",
       "Albania                4756.248806                        64.181345   \n",
       "Algeria                3945.430875                        47.075010   \n",
       "Angola                 3274.049995                        32.200000   \n",
       "Antigua and Barbuda   15486.105827                        71.500000   \n",
       "\n",
       "                     expectativa_vida  probabilidade_morte_criancas  \\\n",
       "Country Name                                                          \n",
       "Afghanistan                   64.1178                          2.80   \n",
       "Albania                       78.3166                          1.02   \n",
       "Algeria                       76.4920                          1.78   \n",
       "Angola                        60.3262                         11.30   \n",
       "Antigua and Barbuda           76.7506                          0.74   \n",
       "\n",
       "                     taxa_desemprego  taxa_emprego_conta_propria  \\\n",
       "Country Name                                                       \n",
       "Afghanistan                11.275000                    7.134000   \n",
       "Albania                    13.616667                   45.185999   \n",
       "Algeria                    11.656667                   74.439999   \n",
       "Angola                      7.198333                   13.104000   \n",
       "Antigua and Barbuda              NaN                         NaN   \n",
       "\n",
       "                     taxa_emprego_industria  dias_comecar_empresa  \\\n",
       "Country Name                                                        \n",
       "Afghanistan                          17.906                   8.5   \n",
       "Albania                              19.466                   4.8   \n",
       "Algeria                              30.838                  18.0   \n",
       "Angola                                7.188                  36.0   \n",
       "Antigua and Barbuda                     NaN                  21.4   \n",
       "\n",
       "                     taxa_impostos_trabalho  gasto_saude_percapita  \\\n",
       "Country Name                                                         \n",
       "Afghanistan                             0.0             203.617393   \n",
       "Albania                                18.8             623.300247   \n",
       "Algeria                                31.1             988.297607   \n",
       "Angola                                  9.0             179.651402   \n",
       "Antigua and Barbuda                    11.2            1269.123169   \n",
       "\n",
       "                     gasto_governo_educacao_perc  \n",
       "Country Name                                      \n",
       "Afghanistan                             3.310932  \n",
       "Albania                                 3.739385  \n",
       "Algeria                                 6.454113  \n",
       "Angola                                  2.514920  \n",
       "Antigua and Barbuda                     2.733426  "
      ]
     },
     "execution_count": 4,
     "metadata": {},
     "output_type": "execute_result"
    }
   ],
   "source": [
    "df.head()"
   ]
  },
  {
   "cell_type": "code",
   "execution_count": 5,
   "metadata": {},
   "outputs": [],
   "source": [
    "#Separando entre variavel resposta e explicativas\n",
    "df_indep = df.drop(['pib_percapita'],axis=1)\n",
    "df_dep = df.pib_percapita"
   ]
  },
  {
   "cell_type": "markdown",
   "metadata": {},
   "source": [
    "# Verificando outliers na variavel resposta"
   ]
  },
  {
   "cell_type": "code",
   "execution_count": 8,
   "metadata": {},
   "outputs": [
    {
     "data": {
      "image/png": "[encoded data removed]",
      "text/plain": [
       "<Figure size 432x288 with 1 Axes>"
      ]
     },
     "metadata": {
      "needs_background": "light"
     },
     "output_type": "display_data"
    }
   ],
   "source": [
    "# Há muitos outliers de altos valores, pode influenciar na modelagem\n",
    "plt.boxplot(df_dep)\n",
    "plt.show()"
   ]
  },
  {
   "cell_type": "markdown",
   "metadata": {},
   "source": [
    "# Tratando valores faltantes "
   ]
  },
  {
   "cell_type": "code",
   "execution_count": 9,
   "metadata": {},
   "outputs": [
    {
     "data": {
      "text/plain": [
       "individuos_usando_internet_perc     0\n",
       "expectativa_vida                    0\n",
       "probabilidade_morte_criancas        0\n",
       "taxa_desemprego                     5\n",
       "taxa_emprego_conta_propria          5\n",
       "taxa_emprego_industria              5\n",
       "dias_comecar_empresa                2\n",
       "taxa_impostos_trabalho              3\n",
       "gasto_saude_percapita               3\n",
       "gasto_governo_educacao_perc        17\n",
       "dtype: int64"
      ]
     },
     "execution_count": 9,
     "metadata": {},
     "output_type": "execute_result"
    }
   ],
   "source": [
    "df_indep.isna().sum()"
   ]
  },
  {
   "cell_type": "markdown",
   "metadata": {},
   "source": [
    "* Como há muitos valores faltantes para a variável de gasto de governo com educação, será feito um modelo para estimá-los"
   ]
  },
  {
   "cell_type": "code",
   "execution_count": 13,
   "metadata": {},
   "outputs": [],
   "source": [
    "df_indep_gasto_governo = df_indep.copy()\n",
    "df_indep_gasto_governo.dropna(subset=['gasto_governo_educacao_perc'],inplace=True) # retirando os valores faltantes da variável"
   ]
  },
  {
   "cell_type": "code",
   "execution_count": 14,
   "metadata": {},
   "outputs": [],
   "source": [
    "df_indep_gasto_governo_x = df_indep_gasto_governo.drop('gasto_governo_educacao_perc', axis=1) # separando as outras variáveis\n",
    "df_indep_gasto_governo_y = df_indep_gasto_governo.gasto_governo_educacao_perc # variável que deseja-se prever"
   ]
  },
  {
   "cell_type": "code",
   "execution_count": 15,
   "metadata": {},
   "outputs": [],
   "source": [
    "df_indep_gasto_governo_x.fillna(-999,inplace=True) # preencher os faltantes das outras variáveis com um valor extremo, que não afetará o modelo de árvore"
   ]
  },
  {
   "cell_type": "code",
   "execution_count": 16,
   "metadata": {},
   "outputs": [],
   "source": [
    "from sklearn.model_selection import train_test_split\n",
    "\n",
    "X_train, X_test, y_train, y_test = train_test_split(df_indep_gasto_governo_x,df_indep_gasto_governo_y, test_size=0.30, random_state=65)"
   ]
  },
  {
   "cell_type": "code",
   "execution_count": 17,
   "metadata": {},
   "outputs": [
    {
     "data": {
      "text/plain": [
       "1.31012688593732"
      ]
     },
     "execution_count": 17,
     "metadata": {},
     "output_type": "execute_result"
    }
   ],
   "source": [
    "# Criando um modelo de árvore para preencher os faltantes da variável de gasto de governo com educação\n",
    "parametro = {'max_leaf_nodes': [4,8,16,32,64,128,256,512,1024,2048]}\n",
    "clf =  tree.DecisionTreeRegressor(splitter = 'best', criterion=\"mae\" ,random_state=42)\n",
    "clf = GridSearchCV(clf, parametro,scoring='neg_mean_absolute_error', cv=10)\n",
    "clf.fit(X_train,y_train)\n",
    "y_predict = clf.predict(X_test)\n",
    "\n",
    "from sklearn.metrics import mean_absolute_error\n",
    "mean_absolute_error(y_test, y_predict) # erro do modelo para variável é de 1,3"
   ]
  },
  {
   "cell_type": "code",
   "execution_count": 18,
   "metadata": {},
   "outputs": [],
   "source": [
    "# Separando as demais variáveis para aplicar o modelo acima\n",
    "df_indep_input_gasto_gov = df_indep[df_indep['gasto_governo_educacao_perc'].isna()]\n",
    "df_indep_input_gasto_gov = df_indep_input_gasto_gov.drop(['gasto_governo_educacao_perc'],axis=1)\n",
    "df_indep_input_gasto_gov.fillna(-999,inplace=True)"
   ]
  },
  {
   "cell_type": "code",
   "execution_count": 19,
   "metadata": {},
   "outputs": [],
   "source": [
    "# Prevendo os valores faltantes\n",
    "input_gasto_gov = clf.predict(df_indep_input_gasto_gov)\n",
    "df_indep_input_gasto_gov['pred'] = input_gasto_gov"
   ]
  },
  {
   "cell_type": "code",
   "execution_count": 20,
   "metadata": {},
   "outputs": [],
   "source": [
    "# Unindo os novos valores previstos com a base inicial\n",
    "df_indep = pd.merge(df_indep, df_indep_input_gasto_gov['pred'], how='left' ,left_index=True, right_index=True)\n",
    "df_indep['gasto_governo_educacao_perc'].fillna(value=df_indep.pred,inplace=True)\n",
    "df_indep.drop('pred',axis=1,inplace=True)"
   ]
  },
  {
   "cell_type": "code",
   "execution_count": 22,
   "metadata": {},
   "outputs": [],
   "source": [
    "df_indep.fillna(-999,inplace=True) #preechendo valores ausentes das demais variáveis"
   ]
  },
  {
   "cell_type": "code",
   "execution_count": 23,
   "metadata": {},
   "outputs": [],
   "source": [
    "X_train, X_test, y_train, y_test = train_test_split(df_indep,df_dep, test_size=.3)"
   ]
  },
  {
   "cell_type": "code",
   "execution_count": 24,
   "metadata": {},
   "outputs": [
    {
     "data": {
      "text/plain": [
       "GridSearchCV(cv=5, error_score=nan,\n",
       "             estimator=RandomForestRegressor(bootstrap=True, ccp_alpha=0.0,\n",
       "                                             criterion='mae', max_depth=None,\n",
       "                                             max_features='auto',\n",
       "                                             max_leaf_nodes=None,\n",
       "                                             max_samples=None,\n",
       "                                             min_impurity_decrease=0.0,\n",
       "                                             min_impurity_split=None,\n",
       "                                             min_samples_leaf=1,\n",
       "                                             min_samples_split=2,\n",
       "                                             min_weight_fraction_leaf=0.0,\n",
       "                                             n_estimators=1000, n_jobs=None,\n",
       "                                             oob_score=False,\n",
       "                                             random_state=61658, verbose=0,\n",
       "                                             warm_start=False),\n",
       "             iid='deprecated', n_jobs=None,\n",
       "             param_grid={'max_leaf_nodes': [4, 8, 16, 32, 64]},\n",
       "             pre_dispatch='2*n_jobs', refit='MAE', return_train_score=False,\n",
       "             scoring={'MAE': 'neg_mean_absolute_error', 'R2': 'r2'}, verbose=0)"
      ]
     },
     "execution_count": 24,
     "metadata": {},
     "output_type": "execute_result"
    }
   ],
   "source": [
    "# Criando modelo de random forest\n",
    "parametros = {'max_leaf_nodes': [4,8,16,32,64]}\n",
    "scoring = {'MAE': 'neg_mean_absolute_error','R2': 'r2'}\n",
    "\n",
    "rf = GridSearchCV(\n",
    "    RandomForestRegressor(n_estimators=1000,criterion = 'mae', random_state=61658),\n",
    "    parametros,\n",
    "    cv=5,\n",
    "    scoring=scoring,\n",
    "    refit = 'MAE')\n",
    "rf.fit(X_train,y_train)"
   ]
  },
  {
   "cell_type": "code",
   "execution_count": 25,
   "metadata": {},
   "outputs": [
    {
     "name": "stdout",
     "output_type": "stream",
     "text": [
      "3399.9188305536836\n",
      "0.7270930988367035\n"
     ]
    }
   ],
   "source": [
    "from sklearn.metrics import mean_absolute_error\n",
    "from sklearn.metrics import r2_score\n",
    "print(mean_absolute_error(y_test, rf.predict(X_test))) # o erro absoluto médio é de 3.399 na base de teste\n",
    "print(r2_score(y_test, rf.predict(X_test))) # O R2 no teste foi de 0,72"
   ]
  },
  {
   "cell_type": "code",
   "execution_count": 26,
   "metadata": {},
   "outputs": [
    {
     "data": {
      "text/plain": [
       "18829.524999854824"
      ]
     },
     "execution_count": 26,
     "metadata": {},
     "output_type": "execute_result"
    }
   ],
   "source": [
    "np.std(df_dep) # o desvio-padrão da variável resposta é de 18.829"
   ]
  },
  {
   "cell_type": "markdown",
   "metadata": {},
   "source": [
    "* Sobre a importância de variáveis:\n",
    "    * Gasto de saúde foi a mais significativa\n",
    "    * Percentual de individuos usando internet foi a segunda mais importante"
   ]
  },
  {
   "cell_type": "code",
   "execution_count": 28,
   "metadata": {},
   "outputs": [
    {
     "name": "stdout",
     "output_type": "stream",
     "text": [
      "gasto_saude_percapita                              0.5601\n",
      "individuos_usando_internet_perc                    0.1833\n",
      "probabilidade_morte_criancas                       0.0692\n",
      "expectativa_vida                                   0.0608\n",
      "taxa_emprego_conta_propria                         0.0299\n",
      "taxa_emprego_industria                             0.0257\n",
      "taxa_desemprego                                    0.0230\n",
      "dias_comecar_empresa                               0.0174\n",
      "gasto_governo_educacao_perc                        0.0168\n",
      "taxa_impostos_trabalho                             0.0139\n"
     ]
    }
   ],
   "source": [
    "imps = rf.best_estimator_.feature_importances_\n",
    "cols = X_train.columns\n",
    "order= np.argsort(imps)[::-1]\n",
    "\n",
    "for col,imp in zip(cols[order],imps[order]):\n",
    "    print(f'{col:50s} {imp:.4f}')"
   ]
  },
  {
   "cell_type": "markdown",
   "metadata": {},
   "source": [
    "* Plotando a relação observada acima\n",
    "    * Quanto mais na diagonal superior direta esta a observação, maior o pib percapita, em que ambas as variáveis são maiores\n",
    "    * Para a variável de gasto com saúde é mais visivel a relação"
   ]
  },
  {
   "cell_type": "code",
   "execution_count": 31,
   "metadata": {},
   "outputs": [
    {
     "data": {
      "image/png": "[encoded data removed]",
      "text/plain": [
       "<Figure size 1080x720 with 2 Axes>"
      ]
     },
     "metadata": {
      "needs_background": "light"
     },
     "output_type": "display_data"
    }
   ],
   "source": [
    "plt.figure(figsize=(15,10))\n",
    "plt.scatter(df['gasto_saude_percapita'],df['individuos_usando_internet_perc'], c=df['pib_percapita'],cmap='hot')\n",
    "plt.xlabel(\"Gasto de Saúde Percapita\", fontsize = 12) \n",
    "plt.ylabel(\"% indivíduos usando internet\", fontsize = 12)\n",
    "plt.colorbar()\n",
    "plt.show()"
   ]
  },
  {
   "cell_type": "markdown",
   "metadata": {},
   "source": [
    "* Verificando os erros\n",
    "    * Há certo viés do modelo de superestimar alguns valores, visto os erros negativos altos observados"
   ]
  },
  {
   "cell_type": "code",
   "execution_count": 32,
   "metadata": {},
   "outputs": [],
   "source": [
    "erros = y_test - rf.predict(X_test)"
   ]
  },
  {
   "cell_type": "code",
   "execution_count": 43,
   "metadata": {},
   "outputs": [
    {
     "data": {
      "image/png": "[encoded data removed]",
      "text/plain": [
       "<Figure size 1080x360 with 1 Axes>"
      ]
     },
     "metadata": {
      "needs_background": "light"
     },
     "output_type": "display_data"
    }
   ],
   "source": [
    "minimo = min(erros)\n",
    "maximo = max(erros)\n",
    "plt.figure(figsize=(15,5))\n",
    "plt.hist(erros, bins=np.linspace(minimo,maximo,30), rwidth=.8, alpha=.3, density=True, color='C0')\n",
    "plt.xticks(np.arange(-50000, 50000, step=5000)) \n",
    "plt.show()"
   ]
  },
  {
   "cell_type": "code",
   "execution_count": 50,
   "metadata": {},
   "outputs": [
    {
     "data": {
      "image/png": "[encoded data removed]",
      "text/plain": [
       "<Figure size 1080x360 with 1 Axes>"
      ]
     },
     "metadata": {
      "needs_background": "light"
     },
     "output_type": "display_data"
    }
   ],
   "source": [
    "minimo = min(y_test.min(),rf.predict(X_test).min())\n",
    "maximo = max(y_test.max(),rf.predict(X_test).max())\n",
    "\n",
    "plt.figure(figsize=(15,5))\n",
    "plt.hist(y_test, bins=np.linspace(minimo,maximo,30), rwidth=.8, alpha=.3, density=True, color='C0', label=\"Real\")\n",
    "plt.hist(rf.predict(X_test), bins=np.linspace(minimo,maximo,30), rwidth=.8, alpha=.3, density=True, color='C3', label=\"Previsto\")\n",
    "plt.xticks(np.arange(0, 80000, step=5000))\n",
    "plt.legend()\n",
    "plt.show()"
   ]
  },
  {
   "cell_type": "code",
   "execution_count": null,
   "metadata": {},
   "outputs": [],
   "source": []
  }
 ],
 "metadata": {
  "kernelspec": {
   "display_name": "Python 3",
   "language": "python",
   "name": "python3"
  },
  "language_info": {
   "codemirror_mode": {
    "name": "ipython",
    "version": 3
   },
   "file_extension": ".py",
   "mimetype": "text/x-python",
   "name": "python",
   "nbconvert_exporter": "python",
   "pygments_lexer": "ipython3",
   "version": "3.7.1"
  }
 },
 "nbformat": 4,
 "nbformat_minor": 4
}
