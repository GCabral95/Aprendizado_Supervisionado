{
 "cells": [
  {
   "cell_type": "code",
   "execution_count": 1,
   "id": "2e5f237b",
   "metadata": {},
   "outputs": [],
   "source": [
    "import numpy as np\n",
    "import pandas as pd\n",
    "import optuna\n",
    "from sklearn.model_selection import train_test_split\n",
    "from sklearn.ensemble import RandomForestRegressor\n",
    "from sklearn.metrics import mean_squared_error, r2_score\n",
    "import matplotlib.pyplot as plt\n",
    "from sklearn.model_selection import cross_val_score, KFold\n",
    "import seaborn as sns\n",
    "import warnings\n",
    "# Suppress all warnings\n",
    "warnings.filterwarnings(\"ignore\")"
   ]
  },
  {
   "cell_type": "markdown",
   "id": "f62ba85b",
   "metadata": {},
   "source": [
    "# Base"
   ]
  },
  {
   "cell_type": "markdown",
   "id": "776368c4",
   "metadata": {},
   "source": [
    "* Base focada na previsao do valor médio de casas para os distritos da Califórnia\n",
    "* Variavel resposta: MedHouseVal\n",
    "* Demais variaveis serão utilizadas como preditivas"
   ]
  },
  {
   "cell_type": "code",
   "execution_count": 2,
   "id": "2ca8ee7e",
   "metadata": {},
   "outputs": [],
   "source": [
    "from sklearn.datasets import fetch_california_housing\n",
    "data = fetch_california_housing(as_frame=True)\n",
    "df = data.frame"
   ]
  },
  {
   "cell_type": "code",
   "execution_count": 3,
   "id": "b7aa8712",
   "metadata": {},
   "outputs": [
    {
     "data": {
      "text/html": [
       "<div>\n",
       "<style scoped>\n",
       "    .dataframe tbody tr th:only-of-type {\n",
       "        vertical-align: middle;\n",
       "    }\n",
       "\n",
       "    .dataframe tbody tr th {\n",
       "        vertical-align: top;\n",
       "    }\n",
       "\n",
       "    .dataframe thead th {\n",
       "        text-align: right;\n",
       "    }\n",
       "</style>\n",
       "<table border=\"1\" class=\"dataframe\">\n",
       "  <thead>\n",
       "    <tr style=\"text-align: right;\">\n",
       "      <th></th>\n",
       "      <th>MedInc</th>\n",
       "      <th>HouseAge</th>\n",
       "      <th>AveRooms</th>\n",
       "      <th>AveBedrms</th>\n",
       "      <th>Population</th>\n",
       "      <th>AveOccup</th>\n",
       "      <th>Latitude</th>\n",
       "      <th>Longitude</th>\n",
       "      <th>MedHouseVal</th>\n",
       "    </tr>\n",
       "  </thead>\n",
       "  <tbody>\n",
       "    <tr>\n",
       "      <th>0</th>\n",
       "      <td>8.3252</td>\n",
       "      <td>41.0</td>\n",
       "      <td>6.984127</td>\n",
       "      <td>1.023810</td>\n",
       "      <td>322.0</td>\n",
       "      <td>2.555556</td>\n",
       "      <td>37.88</td>\n",
       "      <td>-122.23</td>\n",
       "      <td>4.526</td>\n",
       "    </tr>\n",
       "    <tr>\n",
       "      <th>1</th>\n",
       "      <td>8.3014</td>\n",
       "      <td>21.0</td>\n",
       "      <td>6.238137</td>\n",
       "      <td>0.971880</td>\n",
       "      <td>2401.0</td>\n",
       "      <td>2.109842</td>\n",
       "      <td>37.86</td>\n",
       "      <td>-122.22</td>\n",
       "      <td>3.585</td>\n",
       "    </tr>\n",
       "    <tr>\n",
       "      <th>2</th>\n",
       "      <td>7.2574</td>\n",
       "      <td>52.0</td>\n",
       "      <td>8.288136</td>\n",
       "      <td>1.073446</td>\n",
       "      <td>496.0</td>\n",
       "      <td>2.802260</td>\n",
       "      <td>37.85</td>\n",
       "      <td>-122.24</td>\n",
       "      <td>3.521</td>\n",
       "    </tr>\n",
       "    <tr>\n",
       "      <th>3</th>\n",
       "      <td>5.6431</td>\n",
       "      <td>52.0</td>\n",
       "      <td>5.817352</td>\n",
       "      <td>1.073059</td>\n",
       "      <td>558.0</td>\n",
       "      <td>2.547945</td>\n",
       "      <td>37.85</td>\n",
       "      <td>-122.25</td>\n",
       "      <td>3.413</td>\n",
       "    </tr>\n",
       "    <tr>\n",
       "      <th>4</th>\n",
       "      <td>3.8462</td>\n",
       "      <td>52.0</td>\n",
       "      <td>6.281853</td>\n",
       "      <td>1.081081</td>\n",
       "      <td>565.0</td>\n",
       "      <td>2.181467</td>\n",
       "      <td>37.85</td>\n",
       "      <td>-122.25</td>\n",
       "      <td>3.422</td>\n",
       "    </tr>\n",
       "  </tbody>\n",
       "</table>\n",
       "</div>"
      ],
      "text/plain": [
       "   MedInc  HouseAge  AveRooms  AveBedrms  Population  AveOccup  Latitude  \\\n",
       "0  8.3252      41.0  6.984127   1.023810       322.0  2.555556     37.88   \n",
       "1  8.3014      21.0  6.238137   0.971880      2401.0  2.109842     37.86   \n",
       "2  7.2574      52.0  8.288136   1.073446       496.0  2.802260     37.85   \n",
       "3  5.6431      52.0  5.817352   1.073059       558.0  2.547945     37.85   \n",
       "4  3.8462      52.0  6.281853   1.081081       565.0  2.181467     37.85   \n",
       "\n",
       "   Longitude  MedHouseVal  \n",
       "0    -122.23        4.526  \n",
       "1    -122.22        3.585  \n",
       "2    -122.24        3.521  \n",
       "3    -122.25        3.413  \n",
       "4    -122.25        3.422  "
      ]
     },
     "execution_count": 3,
     "metadata": {},
     "output_type": "execute_result"
    }
   ],
   "source": [
    "df.head()"
   ]
  },
  {
   "cell_type": "markdown",
   "id": "e80e680a",
   "metadata": {},
   "source": [
    "# Construindo o modelo Random Forest"
   ]
  },
  {
   "cell_type": "code",
   "execution_count": 4,
   "id": "94c47330",
   "metadata": {},
   "outputs": [],
   "source": [
    "# Separar variáveis independentes e dependentes\n",
    "X = df.drop(columns=['MedHouseVal'])  # 'MedHouseVal' é a variável resposta\n",
    "y = df['MedHouseVal']"
   ]
  },
  {
   "cell_type": "code",
   "execution_count": 5,
   "id": "cbabe915",
   "metadata": {},
   "outputs": [],
   "source": [
    "# Dividir os dados em conjuntos de treinamento e teste\n",
    "X_train, X_test, y_train, y_test = train_test_split(X, y, test_size=0.2, random_state=42)"
   ]
  },
  {
   "cell_type": "code",
   "execution_count": 6,
   "id": "0050c90c",
   "metadata": {},
   "outputs": [
    {
     "name": "stderr",
     "output_type": "stream",
     "text": [
      "[I 2025-01-16 00:26:27,840] A new study created in memory with name: no-name-2b9e9f9d-1221-4d4b-8302-08333ca9f991\n",
      "[I 2025-01-16 00:28:36,642] Trial 2 finished with value: 0.7156460364724347 and parameters: {'max_depth': 2, 'min_samples_split': 4, 'min_samples_leaf': 1}. Best is trial 2 with value: 0.7156460364724347.\n",
      "[I 2025-01-16 00:28:37,045] Trial 7 finished with value: 0.7156460364724347 and parameters: {'max_depth': 2, 'min_samples_split': 3, 'min_samples_leaf': 3}. Best is trial 2 with value: 0.7156460364724347.\n",
      "[I 2025-01-16 00:28:38,141] Trial 9 finished with value: 0.7156460364724347 and parameters: {'max_depth': 2, 'min_samples_split': 10, 'min_samples_leaf': 1}. Best is trial 2 with value: 0.7156460364724347.\n",
      "[I 2025-01-16 00:30:34,713] Trial 6 finished with value: 0.5110945872645926 and parameters: {'max_depth': 4, 'min_samples_split': 5, 'min_samples_leaf': 4}. Best is trial 6 with value: 0.5110945872645926.\n",
      "[I 2025-01-16 00:32:34,293] Trial 11 finished with value: 0.39851847262362844 and parameters: {'max_depth': 6, 'min_samples_split': 9, 'min_samples_leaf': 2}. Best is trial 11 with value: 0.39851847262362844.\n",
      "[I 2025-01-16 00:32:42,079] Trial 3 finished with value: 0.3988396680140883 and parameters: {'max_depth': 6, 'min_samples_split': 5, 'min_samples_leaf': 1}. Best is trial 11 with value: 0.39851847262362844.\n",
      "[I 2025-01-16 00:36:39,085] Trial 10 finished with value: 0.291750491079351 and parameters: {'max_depth': 10, 'min_samples_split': 5, 'min_samples_leaf': 1}. Best is trial 10 with value: 0.291750491079351.\n",
      "[I 2025-01-16 00:37:57,723] Trial 8 finished with value: 0.27191872442451454 and parameters: {'max_depth': 12, 'min_samples_split': 7, 'min_samples_leaf': 3}. Best is trial 8 with value: 0.27191872442451454.\n",
      "[I 2025-01-16 00:38:23,713] Trial 5 finished with value: 0.2714066236259269 and parameters: {'max_depth': 12, 'min_samples_split': 4, 'min_samples_leaf': 2}. Best is trial 5 with value: 0.2714066236259269.\n",
      "[I 2025-01-16 00:38:54,091] Trial 14 finished with value: 0.2895075766370024 and parameters: {'max_depth': 10, 'min_samples_split': 7, 'min_samples_leaf': 4}. Best is trial 5 with value: 0.2714066236259269.\n",
      "[I 2025-01-16 00:38:58,095] Trial 4 finished with value: 0.26646674266465287 and parameters: {'max_depth': 14, 'min_samples_split': 5, 'min_samples_leaf': 4}. Best is trial 4 with value: 0.26646674266465287.\n",
      "[I 2025-01-16 00:39:08,202] Trial 0 finished with value: 0.26477618819211524 and parameters: {'max_depth': 14, 'min_samples_split': 6, 'min_samples_leaf': 3}. Best is trial 0 with value: 0.26477618819211524.\n",
      "[I 2025-01-16 00:40:01,552] Trial 12 finished with value: 0.27256429891725203 and parameters: {'max_depth': 12, 'min_samples_split': 9, 'min_samples_leaf': 3}. Best is trial 0 with value: 0.26477618819211524.\n",
      "[I 2025-01-16 00:40:18,421] Trial 1 finished with value: 0.26121762338824056 and parameters: {'max_depth': 16, 'min_samples_split': 5, 'min_samples_leaf': 2}. Best is trial 1 with value: 0.26121762338824056.\n",
      "[I 2025-01-16 00:41:12,666] Trial 13 finished with value: 0.26369548430826373 and parameters: {'max_depth': 20, 'min_samples_split': 8, 'min_samples_leaf': 4}. Best is trial 1 with value: 0.26121762338824056.\n",
      "[I 2025-01-16 00:42:25,860] Trial 15 finished with value: 0.26438212256737204 and parameters: {'max_depth': 16, 'min_samples_split': 4, 'min_samples_leaf': 4}. Best is trial 1 with value: 0.26121762338824056.\n",
      "[I 2025-01-16 00:44:07,519] Trial 17 finished with value: 0.26275653664033216 and parameters: {'max_depth': 20, 'min_samples_split': 9, 'min_samples_leaf': 3}. Best is trial 1 with value: 0.26121762338824056.\n",
      "[I 2025-01-16 00:44:54,455] Trial 16 finished with value: 0.2612733438497043 and parameters: {'max_depth': 20, 'min_samples_split': 7, 'min_samples_leaf': 1}. Best is trial 1 with value: 0.26121762338824056.\n",
      "[I 2025-01-16 00:45:52,898] Trial 18 finished with value: 0.2638117620273482 and parameters: {'max_depth': 18, 'min_samples_split': 5, 'min_samples_leaf': 4}. Best is trial 1 with value: 0.26121762338824056.\n",
      "[I 2025-01-16 00:46:49,264] Trial 19 finished with value: 0.26270704517226573 and parameters: {'max_depth': 18, 'min_samples_split': 10, 'min_samples_leaf': 2}. Best is trial 1 with value: 0.26121762338824056.\n"
     ]
    },
    {
     "name": "stdout",
     "output_type": "stream",
     "text": [
      "Melhores Hiperparâmetros:\n",
      " {'max_depth': 16, 'min_samples_split': 5, 'min_samples_leaf': 2}\n"
     ]
    }
   ],
   "source": [
    "# Otimização de Hiperparâmetros com Optuna usando Cross-Validation\n",
    "def objective(trial):\n",
    "    # Definir hiperparâmetros a serem otimizados\n",
    "    max_depth = trial.suggest_int(\"max_depth\", 2, 20, step=2)\n",
    "    min_samples_split = trial.suggest_int(\"min_samples_split\", 2, 10)\n",
    "    min_samples_leaf = trial.suggest_int(\"min_samples_leaf\", 1, 4)\n",
    "\n",
    "    # Criar o modelo\n",
    "    rf = RandomForestRegressor(\n",
    "        n_estimators=1000,\n",
    "        max_depth=max_depth,\n",
    "        min_samples_split=min_samples_split,\n",
    "        min_samples_leaf=min_samples_leaf,\n",
    "        random_state=42\n",
    "    )\n",
    "    \n",
    "    # Configurar validação cruzada com semente fixa\n",
    "    kf = KFold(n_splits=5, shuffle=True, random_state=42)\n",
    "    \n",
    "    # Usar Cross-Validation para calcular o erro médio\n",
    "    cv_scores = cross_val_score(rf, X_train, y_train, cv=kf, scoring='neg_mean_squared_error')\n",
    "    \n",
    "    # Retornar a média do erro quadrático médio\n",
    "    return -cv_scores.mean()\n",
    "\n",
    "# Criar e executar o estudo\n",
    "study = optuna.create_study(direction=\"minimize\",sampler=optuna.samplers.TPESampler(seed=42))\n",
    "study.optimize(objective, n_trials=20, n_jobs=-1)\n",
    "\n",
    "# Exibir os melhores hiperparâmetros\n",
    "print(\"Melhores Hiperparâmetros:\\n\", study.best_params)"
   ]
  },
  {
   "cell_type": "code",
   "execution_count": 7,
   "id": "7ad330d6",
   "metadata": {},
   "outputs": [
    {
     "name": "stdout",
     "output_type": "stream",
     "text": [
      "MSE com Melhor Modelo: 0.26\n",
      "R² Score com Melhor Modelo: 0.80\n"
     ]
    }
   ],
   "source": [
    "# Reavaliando com os melhores hiperparâmetros\n",
    "best_params = study.best_params\n",
    "best_rf = RandomForestRegressor(**best_params, random_state=42)\n",
    "best_rf.fit(X_train, y_train)\n",
    "y_pred_best = best_rf.predict(X_test)\n",
    "\n",
    "mse_best = mean_squared_error(y_test, y_pred_best)\n",
    "r2_best = r2_score(y_test, y_pred_best)\n",
    "print(f\"MSE com Melhor Modelo: {mse_best:.2f}\")\n",
    "print(f\"R² Score com Melhor Modelo: {r2_best:.2f}\")"
   ]
  },
  {
   "cell_type": "code",
   "execution_count": 8,
   "id": "7394c548",
   "metadata": {},
   "outputs": [
    {
     "data": {
      "text/plain": [
       "['random_forest_model.pkl']"
      ]
     },
     "execution_count": 8,
     "metadata": {},
     "output_type": "execute_result"
    }
   ],
   "source": [
    "# salvando o modelo\n",
    "import joblib\n",
    "joblib.dump(best_rf, \"random_forest_model.pkl\")"
   ]
  },
  {
   "cell_type": "markdown",
   "id": "c05eaf5c",
   "metadata": {},
   "source": [
    "# Testes de Estabilidades"
   ]
  },
  {
   "cell_type": "markdown",
   "id": "7271d0de",
   "metadata": {},
   "source": [
    "### Erro ao longo de Y"
   ]
  },
  {
   "cell_type": "code",
   "execution_count": 9,
   "id": "f135618d",
   "metadata": {},
   "outputs": [
    {
     "name": "stdout",
     "output_type": "stream",
     "text": [
      "   quantile       mse  std_error\n",
      "0         0  0.146320   0.621497\n",
      "1         1  0.106839   0.275610\n",
      "2         2  0.145938   0.516124\n",
      "3         3  0.142992   0.451453\n",
      "4         4  0.150135   0.437833\n",
      "5         5  0.198317   0.419506\n",
      "6         6  0.286016   0.483802\n",
      "7         7  0.892368   1.497521\n"
     ]
    }
   ],
   "source": [
    "# Divide a variável de resposta em quantis\n",
    "quantiles = pd.qcut(y_test, q=8, labels=False)  # Divide em 8 quantis (ajuste o `q` conforme necessário)\n",
    "\n",
    "# Calcula os erros para cada quantil\n",
    "results = pd.DataFrame({\n",
    "    'y_true': y_test,       # Valores reais de y\n",
    "    'y_pred': y_pred_best,  # Valores previstos de y\n",
    "    'quantile': quantiles   # Quantil correspondente\n",
    "})\n",
    "results['error'] = (results['y_true'] - results['y_pred'])**2  # Erro quadrático\n",
    "\n",
    "# Agrega estatísticas para cada quantil\n",
    "quantile_stats = results.groupby('quantile').agg(\n",
    "    mse=('error', lambda x: np.mean(x)),       # Média dos erros quadráticos (MSE)\n",
    "    std_error=('error', lambda x: np.std(x))  # Desvio padrão dos erros\n",
    ").reset_index()\n",
    "\n",
    "# Exibe os resultados\n",
    "print(quantile_stats)"
   ]
  },
  {
   "cell_type": "markdown",
   "id": "b8f0ad18",
   "metadata": {},
   "source": [
    "### Diferentes bases de teste - Usando bootstraping"
   ]
  },
  {
   "cell_type": "code",
   "execution_count": 15,
   "id": "0f66a2fa",
   "metadata": {},
   "outputs": [
    {
     "name": "stdout",
     "output_type": "stream",
     "text": [
      "Resultados do Bootstrap MSE:\n",
      "Média do MSE: 0.2564\n",
      "Desvio padrão: 0.0113\n"
     ]
    }
   ],
   "source": [
    "# Configura uma semente aleatória para reprodutibilidade\n",
    "random_seed = 42\n",
    "np.random.seed(random_seed)\n",
    "\n",
    "# Número de amostras bootstrap (300 novas bases)\n",
    "n_bootstrap_samples = 300\n",
    "\n",
    "# Lista para armazenar as pontuações de MSE\n",
    "bootstrap_mse_scores = []\n",
    "\n",
    "# Realiza o processo de bootstrapping\n",
    "for i in range(n_bootstrap_samples):\n",
    "    # Gera uma amostra bootstrap (com reposição)\n",
    "    bootstrap_indices = np.random.choice(len(X_test), size=len(X_test), replace=True)\n",
    "    \n",
    "    # Usa os índices bootstrap para selecionar os dados e converter para NumPy\n",
    "    X_bootstrap = X_test.iloc[bootstrap_indices].values\n",
    "    y_bootstrap = y_test.iloc[bootstrap_indices].values\n",
    "\n",
    "    # Faz previsões na amostra bootstrap\n",
    "    y_pred = best_rf.predict(X_bootstrap)\n",
    "\n",
    "    # Calcula o erro médio quadrático (MSE) e o armazena\n",
    "    mse = mean_squared_error(y_bootstrap, y_pred)\n",
    "    bootstrap_mse_scores.append(mse)\n",
    "\n",
    "# Estatísticas resumidas\n",
    "mean_mse = np.mean(bootstrap_mse_scores)  # Média dos MSEs\n",
    "std_mse = np.std(bootstrap_mse_scores)    # Desvio padrão dos MSEs\n",
    "\n",
    "# Exibe os resultados\n",
    "print(f\"Resultados do Bootstrap MSE:\")\n",
    "print(f\"Média do MSE: {mean_mse:.4f}\")\n",
    "print(f\"Desvio padrão: {std_mse:.4f}\")"
   ]
  },
  {
   "cell_type": "code",
   "execution_count": 20,
   "id": "9bee8d44",
   "metadata": {},
   "outputs": [
    {
     "data": {
      "image/png": "[encoded data removed]",
      "text/plain": [
       "<Figure size 640x480 with 1 Axes>"
      ]
     },
     "metadata": {},
     "output_type": "display_data"
    }
   ],
   "source": [
    "# Opcional: Visualizar os resultados\n",
    "import matplotlib.pyplot as plt\n",
    "\n",
    "plt.hist(bootstrap_mse_scores, bins=15, edgecolor='k', alpha=0.7)  # Cria o histograma\n",
    "plt.title(\"Distribuição do Bootstrap MSE\")  # Título do gráfico\n",
    "plt.xlabel(\"Erro Quadrático Médio (MSE)\")    # Rótulo do eixo X\n",
    "plt.ylabel(\"Frequência\")                     # Rótulo do eixo Y\n",
    "plt.show()                                   # Exibe o gráfico"
   ]
  },
  {
   "cell_type": "markdown",
   "id": "ebeebfd9",
   "metadata": {},
   "source": [
    "### Impacto de cada variável no erro - Randomizando as variaveis"
   ]
  },
  {
   "cell_type": "code",
   "execution_count": 19,
   "id": "589c9a03",
   "metadata": {},
   "outputs": [
    {
     "name": "stdout",
     "output_type": "stream",
     "text": [
      "MedInc - MSE: 1.2398\n",
      "HouseAge - MSE: 0.3580\n",
      "AveRooms - MSE: 0.2922\n",
      "AveBedrms - MSE: 0.2677\n",
      "Population - MSE: 0.2642\n",
      "AveOccup - MSE: 0.5375\n",
      "Latitude - MSE: 0.8220\n",
      "Longitude - MSE: 0.6789\n"
     ]
    }
   ],
   "source": [
    "# Configura uma semente aleatória para reprodutibilidade\n",
    "random_seed = 42\n",
    "np.random.seed(random_seed)\n",
    "\n",
    "# Inicializa um contêiner para armazenar os resultados de desempenho\n",
    "feature_mse = []\n",
    "\n",
    "# Itera sobre cada feature (coluna)\n",
    "for feature in X_test.columns:\n",
    "    # Cria uma cópia de X_test\n",
    "    X_test_modified = X_test.copy()\n",
    "    \n",
    "    # Substitui a feature atual por valores aleatórios\n",
    "    X_test_modified[feature] = np.random.permutation(X_test[feature])\n",
    "    \n",
    "    # Avalia o modelo no conjunto de dados modificado\n",
    "    y_pred = best_rf.predict(X_test_modified)\n",
    "    mse = mean_squared_error(y_test, y_pred)\n",
    "    feature_mse.append(mse)\n",
    "    print(f\"{feature} - MSE: {mse:.4f}\")"
   ]
  }
 ],
 "metadata": {
  "kernelspec": {
   "display_name": "Python 3 (ipykernel)",
   "language": "python",
   "name": "python3"
  },
  "language_info": {
   "codemirror_mode": {
    "name": "ipython",
    "version": 3
   },
   "file_extension": ".py",
   "mimetype": "text/x-python",
   "name": "python",
   "nbconvert_exporter": "python",
   "pygments_lexer": "ipython3",
   "version": "3.11.0"
  }
 },
 "nbformat": 4,
 "nbformat_minor": 5
}
