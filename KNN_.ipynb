{
 "cells": [
  {
   "cell_type": "code",
   "execution_count": 1,
   "metadata": {},
   "outputs": [],
   "source": [
    "import numpy as np\n",
    "import pandas as pd\n",
    "import matplotlib.pyplot as plt\n",
    "import seaborn as sns\n",
    "import warnings\n",
    "warnings.filterwarnings(\"ignore\")\n",
    "from sklearn.neighbors import KNeighborsRegressor\n",
    "from sklearn.model_selection import GridSearchCV\n",
    "from sklearn.model_selection import train_test_split\n",
    "from sklearn.metrics import mean_squared_error\n",
    "from sklearn.metrics import r2_score"
   ]
  },
  {
   "cell_type": "markdown",
   "metadata": {},
   "source": [
    "# Regressão"
   ]
  },
  {
   "cell_type": "markdown",
   "metadata": {},
   "source": [
    "* Base com indicadores sociais e econômicos de municípios brasileiros"
   ]
  },
  {
   "cell_type": "code",
   "execution_count": 2,
   "metadata": {},
   "outputs": [],
   "source": [
    "df = pd.read_csv('municipios.csv')"
   ]
  },
  {
   "cell_type": "code",
   "execution_count": null,
   "metadata": {},
   "outputs": [],
   "source": [
    "pd.set_option('display.max_columns', None)\n",
    "df.head()"
   ]
  },
  {
   "cell_type": "code",
   "execution_count": 3,
   "metadata": {},
   "outputs": [
    {
     "data": {
      "text/plain": [
       "5565"
      ]
     },
     "execution_count": 3,
     "metadata": {},
     "output_type": "execute_result"
    }
   ],
   "source": [
    "#Selecao de alguns indicadores do ano de 2010\n",
    "df = df[['ano','mortalidade_5','taxa_analfabetismo_25_mais','taxa_freq_liquida_basico',\n",
    "         'prop_vulner_pobreza','populacao_65_mais']]\n",
    "df = df.loc[df['ano'] == 2010]\n",
    "len(df)"
   ]
  },
  {
   "cell_type": "code",
   "execution_count": 4,
   "metadata": {},
   "outputs": [
    {
     "data": {
      "text/html": [
       "<div>\n",
       "<style scoped>\n",
       "    .dataframe tbody tr th:only-of-type {\n",
       "        vertical-align: middle;\n",
       "    }\n",
       "\n",
       "    .dataframe tbody tr th {\n",
       "        vertical-align: top;\n",
       "    }\n",
       "\n",
       "    .dataframe thead th {\n",
       "        text-align: right;\n",
       "    }\n",
       "</style>\n",
       "<table border=\"1\" class=\"dataframe\">\n",
       "  <thead>\n",
       "    <tr style=\"text-align: right;\">\n",
       "      <th></th>\n",
       "      <th>ano</th>\n",
       "      <th>mortalidade_5</th>\n",
       "      <th>taxa_analfabetismo_25_mais</th>\n",
       "      <th>taxa_freq_liquida_basico</th>\n",
       "      <th>prop_vulner_pobreza</th>\n",
       "      <th>populacao_65_mais</th>\n",
       "    </tr>\n",
       "  </thead>\n",
       "  <tbody>\n",
       "    <tr>\n",
       "      <th>2</th>\n",
       "      <td>2010</td>\n",
       "      <td>25.49</td>\n",
       "      <td>15.76</td>\n",
       "      <td>85.25</td>\n",
       "      <td>47.12</td>\n",
       "      <td>1425</td>\n",
       "    </tr>\n",
       "    <tr>\n",
       "      <th>5</th>\n",
       "      <td>2010</td>\n",
       "      <td>20.53</td>\n",
       "      <td>10.48</td>\n",
       "      <td>85.46</td>\n",
       "      <td>29.04</td>\n",
       "      <td>3943</td>\n",
       "    </tr>\n",
       "    <tr>\n",
       "      <th>8</th>\n",
       "      <td>2010</td>\n",
       "      <td>26.58</td>\n",
       "      <td>16.78</td>\n",
       "      <td>88.82</td>\n",
       "      <td>46.98</td>\n",
       "      <td>434</td>\n",
       "    </tr>\n",
       "    <tr>\n",
       "      <th>11</th>\n",
       "      <td>2010</td>\n",
       "      <td>15.38</td>\n",
       "      <td>10.95</td>\n",
       "      <td>88.24</td>\n",
       "      <td>29.82</td>\n",
       "      <td>4378</td>\n",
       "    </tr>\n",
       "    <tr>\n",
       "      <th>14</th>\n",
       "      <td>2010</td>\n",
       "      <td>19.42</td>\n",
       "      <td>13.51</td>\n",
       "      <td>84.69</td>\n",
       "      <td>34.85</td>\n",
       "      <td>1097</td>\n",
       "    </tr>\n",
       "  </tbody>\n",
       "</table>\n",
       "</div>"
      ],
      "text/plain": [
       "     ano  mortalidade_5  taxa_analfabetismo_25_mais  taxa_freq_liquida_basico  \\\n",
       "2   2010          25.49                       15.76                     85.25   \n",
       "5   2010          20.53                       10.48                     85.46   \n",
       "8   2010          26.58                       16.78                     88.82   \n",
       "11  2010          15.38                       10.95                     88.24   \n",
       "14  2010          19.42                       13.51                     84.69   \n",
       "\n",
       "    prop_vulner_pobreza  populacao_65_mais  \n",
       "2                 47.12               1425  \n",
       "5                 29.04               3943  \n",
       "8                 46.98                434  \n",
       "11                29.82               4378  \n",
       "14                34.85               1097  "
      ]
     },
     "execution_count": 4,
     "metadata": {},
     "output_type": "execute_result"
    }
   ],
   "source": [
    "df.head()"
   ]
  },
  {
   "cell_type": "markdown",
   "metadata": {},
   "source": [
    "* Verificando a média das variáveis que serão explicativas"
   ]
  },
  {
   "cell_type": "code",
   "execution_count": 5,
   "metadata": {},
   "outputs": [
    {
     "name": "stdout",
     "output_type": "stream",
     "text": [
      "20.52186522911054\n",
      "88.48815274034132\n",
      "43.99078885893987\n",
      "2524.5293800539084\n"
     ]
    }
   ],
   "source": [
    "print(df['taxa_analfabetismo_25_mais'].mean())\n",
    "print(df['taxa_freq_liquida_basico'].mean())\n",
    "print(df['prop_vulner_pobreza'].mean())\n",
    "print(df['populacao_65_mais'].mean())"
   ]
  },
  {
   "cell_type": "markdown",
   "metadata": {},
   "source": [
    "* Boxplot da variáveis dependente"
   ]
  },
  {
   "cell_type": "code",
   "execution_count": 6,
   "metadata": {},
   "outputs": [
    {
     "data": {
      "text/plain": [
       "<AxesSubplot:xlabel='mortalidade_5'>"
      ]
     },
     "execution_count": 6,
     "metadata": {},
     "output_type": "execute_result"
    },
    {
     "data": {
      "image/png": "[encoded data removed]",
      "text/plain": [
       "<Figure size 432x288 with 1 Axes>"
      ]
     },
     "metadata": {
      "needs_background": "light"
     },
     "output_type": "display_data"
    }
   ],
   "source": [
    "sns.boxplot(x=df[\"mortalidade_5\"], palette=\"Blues\")"
   ]
  },
  {
   "cell_type": "markdown",
   "metadata": {},
   "source": [
    "* Correlação de spearman entre as variáveis \n",
    "    * Observa-se que a mortalidade possui correlação alta com taxa de analfabetismo e proporcao vulneravel a pobreza"
   ]
  },
  {
   "cell_type": "code",
   "execution_count": 7,
   "metadata": {},
   "outputs": [
    {
     "data": {
      "text/html": [
       "<div>\n",
       "<style scoped>\n",
       "    .dataframe tbody tr th:only-of-type {\n",
       "        vertical-align: middle;\n",
       "    }\n",
       "\n",
       "    .dataframe tbody tr th {\n",
       "        vertical-align: top;\n",
       "    }\n",
       "\n",
       "    .dataframe thead th {\n",
       "        text-align: right;\n",
       "    }\n",
       "</style>\n",
       "<table border=\"1\" class=\"dataframe\">\n",
       "  <thead>\n",
       "    <tr style=\"text-align: right;\">\n",
       "      <th></th>\n",
       "      <th>mortalidade_5</th>\n",
       "      <th>taxa_analfabetismo_25_mais</th>\n",
       "      <th>taxa_freq_liquida_basico</th>\n",
       "      <th>prop_vulner_pobreza</th>\n",
       "      <th>populacao_65_mais</th>\n",
       "    </tr>\n",
       "  </thead>\n",
       "  <tbody>\n",
       "    <tr>\n",
       "      <th>mortalidade_5</th>\n",
       "      <td>1.000000</td>\n",
       "      <td>0.841041</td>\n",
       "      <td>0.081405</td>\n",
       "      <td>0.846082</td>\n",
       "      <td>-0.067284</td>\n",
       "    </tr>\n",
       "    <tr>\n",
       "      <th>taxa_analfabetismo_25_mais</th>\n",
       "      <td>0.841041</td>\n",
       "      <td>1.000000</td>\n",
       "      <td>0.065045</td>\n",
       "      <td>0.892018</td>\n",
       "      <td>-0.130941</td>\n",
       "    </tr>\n",
       "    <tr>\n",
       "      <th>taxa_freq_liquida_basico</th>\n",
       "      <td>0.081405</td>\n",
       "      <td>0.065045</td>\n",
       "      <td>1.000000</td>\n",
       "      <td>0.062614</td>\n",
       "      <td>-0.141769</td>\n",
       "    </tr>\n",
       "    <tr>\n",
       "      <th>prop_vulner_pobreza</th>\n",
       "      <td>0.846082</td>\n",
       "      <td>0.892018</td>\n",
       "      <td>0.062614</td>\n",
       "      <td>1.000000</td>\n",
       "      <td>-0.067766</td>\n",
       "    </tr>\n",
       "    <tr>\n",
       "      <th>populacao_65_mais</th>\n",
       "      <td>-0.067284</td>\n",
       "      <td>-0.130941</td>\n",
       "      <td>-0.141769</td>\n",
       "      <td>-0.067766</td>\n",
       "      <td>1.000000</td>\n",
       "    </tr>\n",
       "  </tbody>\n",
       "</table>\n",
       "</div>"
      ],
      "text/plain": [
       "                            mortalidade_5  taxa_analfabetismo_25_mais  \\\n",
       "mortalidade_5                    1.000000                    0.841041   \n",
       "taxa_analfabetismo_25_mais       0.841041                    1.000000   \n",
       "taxa_freq_liquida_basico         0.081405                    0.065045   \n",
       "prop_vulner_pobreza              0.846082                    0.892018   \n",
       "populacao_65_mais               -0.067284                   -0.130941   \n",
       "\n",
       "                            taxa_freq_liquida_basico  prop_vulner_pobreza  \\\n",
       "mortalidade_5                               0.081405             0.846082   \n",
       "taxa_analfabetismo_25_mais                  0.065045             0.892018   \n",
       "taxa_freq_liquida_basico                    1.000000             0.062614   \n",
       "prop_vulner_pobreza                         0.062614             1.000000   \n",
       "populacao_65_mais                          -0.141769            -0.067766   \n",
       "\n",
       "                            populacao_65_mais  \n",
       "mortalidade_5                       -0.067284  \n",
       "taxa_analfabetismo_25_mais          -0.130941  \n",
       "taxa_freq_liquida_basico            -0.141769  \n",
       "prop_vulner_pobreza                 -0.067766  \n",
       "populacao_65_mais                    1.000000  "
      ]
     },
     "execution_count": 7,
     "metadata": {},
     "output_type": "execute_result"
    }
   ],
   "source": [
    "df[['mortalidade_5','taxa_analfabetismo_25_mais','taxa_freq_liquida_basico',\n",
    "         'prop_vulner_pobreza','populacao_65_mais']].corr('spearman')"
   ]
  },
  {
   "cell_type": "markdown",
   "metadata": {},
   "source": [
    "* Separacao entre variaveis dependentes e independentes"
   ]
  },
  {
   "cell_type": "code",
   "execution_count": 8,
   "metadata": {},
   "outputs": [],
   "source": [
    "X = df[['taxa_analfabetismo_25_mais','taxa_freq_liquida_basico',\n",
    "         'prop_vulner_pobreza','populacao_65_mais']]\n",
    "Y = df[['mortalidade_5']]"
   ]
  },
  {
   "cell_type": "markdown",
   "metadata": {},
   "source": [
    "* Segmentando os dados em porções de treino e teste"
   ]
  },
  {
   "cell_type": "code",
   "execution_count": 9,
   "metadata": {},
   "outputs": [],
   "source": [
    "X_train, X_test, y_train, y_test = train_test_split(X, Y, test_size=0.30, random_state=0)"
   ]
  },
  {
   "cell_type": "markdown",
   "metadata": {},
   "source": [
    "* Calculo das médias e desvios-padrão das variáveis para posterior normalizacao"
   ]
  },
  {
   "cell_type": "code",
   "execution_count": 10,
   "metadata": {},
   "outputs": [],
   "source": [
    "M1 = X_train['taxa_analfabetismo_25_mais'].mean()\n",
    "M2 = X_train['taxa_freq_liquida_basico'].mean()\n",
    "M3 = X_train['prop_vulner_pobreza'].mean()\n",
    "M4 = X_train['populacao_65_mais'].mean()\n",
    "D1 = np.std(X_train['taxa_analfabetismo_25_mais'])\n",
    "D2 = np.std(X_train['taxa_freq_liquida_basico'])\n",
    "D3 = np.std(X_train['prop_vulner_pobreza'])\n",
    "D4 = np.std(X_train['populacao_65_mais'])"
   ]
  },
  {
   "cell_type": "markdown",
   "metadata": {},
   "source": [
    "* Normalizaçao das variáveis independentes"
   ]
  },
  {
   "cell_type": "code",
   "execution_count": 11,
   "metadata": {},
   "outputs": [],
   "source": [
    "X_train['taxa_analfabetismo_25_mais'] = (X_train['taxa_analfabetismo_25_mais'] - M1)/ D1\n",
    "X_train['taxa_freq_liquida_basico'] = (X_train['taxa_freq_liquida_basico'] - M2)/ D2\n",
    "X_train['prop_vulner_pobreza'] = (X_train['prop_vulner_pobreza'] - M3)/ D3\n",
    "X_train['populacao_65_mais'] = (X_train['populacao_65_mais'] - M4)/ D4"
   ]
  },
  {
   "cell_type": "markdown",
   "metadata": {},
   "source": [
    "* Hiperparametro a ser ajustado é o número de vizinhos (De 1 até 300)\n",
    "    *  As métricas de avaliação do modelo a serem calculadas nas iterações são: R2 e erro quadrado médio\n",
    "        * R2: % da variância da variável dependente que é explicada pelas variáveis independentes (modelo)\n",
    "        * Erro quadrado médio: Diferença do valor real em relação ao predito, ao quadrado"
   ]
  },
  {
   "cell_type": "code",
   "execution_count": 12,
   "metadata": {},
   "outputs": [],
   "source": [
    "parametro = {'n_neighbors':np.arange(1, 300,1)}\n",
    "scoring = {'R2': 'r2', 'Erro Quadrado médio': 'neg_mean_squared_error'}"
   ]
  },
  {
   "cell_type": "markdown",
   "metadata": {},
   "source": [
    "* Ajustando o algoritmo do KNN\n",
    "    * Por padrão, utilizará a distância euclidiana\n",
    "    * O parâmetro weights = 'distance' atribui peso maior para observações mais próximas"
   ]
  },
  {
   "cell_type": "code",
   "execution_count": 13,
   "metadata": {},
   "outputs": [],
   "source": [
    "knn = KNeighborsRegressor(weights = 'distance',algorithm = 'brute')"
   ]
  },
  {
   "cell_type": "code",
   "execution_count": 14,
   "metadata": {},
   "outputs": [],
   "source": [
    "#Iterando (cross-validation) para obter o melhor hiperparâmetro com base na métrica do erro quadrado médio\n",
    "KNN = GridSearchCV(knn, parametro, scoring= scoring, refit = 'Erro Quadrado médio', cv=10)"
   ]
  },
  {
   "cell_type": "code",
   "execution_count": 15,
   "metadata": {},
   "outputs": [
    {
     "data": {
      "text/plain": [
       "GridSearchCV(cv=10, error_score=nan,\n",
       "             estimator=KNeighborsRegressor(algorithm='brute', leaf_size=30,\n",
       "                                           metric='minkowski',\n",
       "                                           metric_params=None, n_jobs=None,\n",
       "                                           n_neighbors=5, p=2,\n",
       "                                           weights='distance'),\n",
       "             iid='deprecated', n_jobs=None,\n",
       "             param_grid={'n_neighbors': array([  1,   2,   3,   4,   5,   6,   7,   8,   9,  10,  11,  12,  13,\n",
       "        14,  15,  16,  17,  18,  19,  20,  21,  22,  23,  24,  25,  26,\n",
       "        27,  28,  29,  30,  31,  32,  33,  34,  35,  36,  37,  38...\n",
       "       248, 249, 250, 251, 252, 253, 254, 255, 256, 257, 258, 259, 260,\n",
       "       261, 262, 263, 264, 265, 266, 267, 268, 269, 270, 271, 272, 273,\n",
       "       274, 275, 276, 277, 278, 279, 280, 281, 282, 283, 284, 285, 286,\n",
       "       287, 288, 289, 290, 291, 292, 293, 294, 295, 296, 297, 298, 299])},\n",
       "             pre_dispatch='2*n_jobs', refit='Erro Quadrado médio',\n",
       "             return_train_score=False,\n",
       "             scoring={'Erro Quadrado médio': 'neg_mean_squared_error',\n",
       "                      'R2': 'r2'},\n",
       "             verbose=0)"
      ]
     },
     "execution_count": 15,
     "metadata": {},
     "output_type": "execute_result"
    }
   ],
   "source": [
    "KNN.fit(X_train,y_train)"
   ]
  },
  {
   "cell_type": "code",
   "execution_count": 16,
   "metadata": {},
   "outputs": [
    {
     "name": "stdout",
     "output_type": "stream",
     "text": [
      "75\n",
      "-15.34635071213656\n"
     ]
    }
   ],
   "source": [
    "# O número de vizinhos que produz o menor erro quadrado médio (15,34) é de 75\n",
    "print(KNN.best_estimator_.n_neighbors)\n",
    "print(KNN.best_score_)"
   ]
  },
  {
   "cell_type": "markdown",
   "metadata": {},
   "source": [
    "* Informacoes das iterações com as métricas em cada split "
   ]
  },
  {
   "cell_type": "code",
   "execution_count": 17,
   "metadata": {},
   "outputs": [],
   "source": [
    "resultados = KNN.cv_results_\n",
    "resultados = pd.DataFrame.from_dict(resultados)"
   ]
  },
  {
   "cell_type": "code",
   "execution_count": 18,
   "metadata": {},
   "outputs": [
    {
     "data": {
      "text/html": [
       "<div>\n",
       "<style scoped>\n",
       "    .dataframe tbody tr th:only-of-type {\n",
       "        vertical-align: middle;\n",
       "    }\n",
       "\n",
       "    .dataframe tbody tr th {\n",
       "        vertical-align: top;\n",
       "    }\n",
       "\n",
       "    .dataframe thead th {\n",
       "        text-align: right;\n",
       "    }\n",
       "</style>\n",
       "<table border=\"1\" class=\"dataframe\">\n",
       "  <thead>\n",
       "    <tr style=\"text-align: right;\">\n",
       "      <th></th>\n",
       "      <th>mean_fit_time</th>\n",
       "      <th>std_fit_time</th>\n",
       "      <th>mean_score_time</th>\n",
       "      <th>std_score_time</th>\n",
       "      <th>param_n_neighbors</th>\n",
       "      <th>params</th>\n",
       "      <th>split0_test_R2</th>\n",
       "      <th>split1_test_R2</th>\n",
       "      <th>split2_test_R2</th>\n",
       "      <th>split3_test_R2</th>\n",
       "      <th>split4_test_R2</th>\n",
       "      <th>split5_test_R2</th>\n",
       "      <th>split6_test_R2</th>\n",
       "      <th>split7_test_R2</th>\n",
       "      <th>split8_test_R2</th>\n",
       "      <th>split9_test_R2</th>\n",
       "      <th>mean_test_R2</th>\n",
       "      <th>std_test_R2</th>\n",
       "      <th>rank_test_R2</th>\n",
       "      <th>split0_test_Erro Quadrado médio</th>\n",
       "      <th>split1_test_Erro Quadrado médio</th>\n",
       "      <th>split2_test_Erro Quadrado médio</th>\n",
       "      <th>split3_test_Erro Quadrado médio</th>\n",
       "      <th>split4_test_Erro Quadrado médio</th>\n",
       "      <th>split5_test_Erro Quadrado médio</th>\n",
       "      <th>split6_test_Erro Quadrado médio</th>\n",
       "      <th>split7_test_Erro Quadrado médio</th>\n",
       "      <th>split8_test_Erro Quadrado médio</th>\n",
       "      <th>split9_test_Erro Quadrado médio</th>\n",
       "      <th>mean_test_Erro Quadrado médio</th>\n",
       "      <th>std_test_Erro Quadrado médio</th>\n",
       "      <th>rank_test_Erro Quadrado médio</th>\n",
       "    </tr>\n",
       "  </thead>\n",
       "  <tbody>\n",
       "    <tr>\n",
       "      <th>0</th>\n",
       "      <td>0.001695</td>\n",
       "      <td>0.000457</td>\n",
       "      <td>0.018821</td>\n",
       "      <td>0.006031</td>\n",
       "      <td>1</td>\n",
       "      <td>{'n_neighbors': 1}</td>\n",
       "      <td>0.453348</td>\n",
       "      <td>0.417316</td>\n",
       "      <td>0.317150</td>\n",
       "      <td>0.410268</td>\n",
       "      <td>0.438089</td>\n",
       "      <td>0.514615</td>\n",
       "      <td>0.492417</td>\n",
       "      <td>0.495502</td>\n",
       "      <td>0.485967</td>\n",
       "      <td>0.344075</td>\n",
       "      <td>0.436875</td>\n",
       "      <td>0.062678</td>\n",
       "      <td>299</td>\n",
       "      <td>-30.270107</td>\n",
       "      <td>-28.111484</td>\n",
       "      <td>-35.707841</td>\n",
       "      <td>-37.065795</td>\n",
       "      <td>-32.622644</td>\n",
       "      <td>-24.822734</td>\n",
       "      <td>-26.587920</td>\n",
       "      <td>-25.717436</td>\n",
       "      <td>-27.120110</td>\n",
       "      <td>-32.894599</td>\n",
       "      <td>-30.092067</td>\n",
       "      <td>4.079180</td>\n",
       "      <td>299</td>\n",
       "    </tr>\n",
       "    <tr>\n",
       "      <th>1</th>\n",
       "      <td>0.001953</td>\n",
       "      <td>0.000471</td>\n",
       "      <td>0.019721</td>\n",
       "      <td>0.005488</td>\n",
       "      <td>2</td>\n",
       "      <td>{'n_neighbors': 2}</td>\n",
       "      <td>0.589742</td>\n",
       "      <td>0.562784</td>\n",
       "      <td>0.462753</td>\n",
       "      <td>0.571788</td>\n",
       "      <td>0.579217</td>\n",
       "      <td>0.670800</td>\n",
       "      <td>0.633454</td>\n",
       "      <td>0.627807</td>\n",
       "      <td>0.600571</td>\n",
       "      <td>0.497106</td>\n",
       "      <td>0.579602</td>\n",
       "      <td>0.059065</td>\n",
       "      <td>298</td>\n",
       "      <td>-22.717465</td>\n",
       "      <td>-21.093421</td>\n",
       "      <td>-28.093910</td>\n",
       "      <td>-26.913909</td>\n",
       "      <td>-24.429201</td>\n",
       "      <td>-16.835408</td>\n",
       "      <td>-19.200191</td>\n",
       "      <td>-18.973026</td>\n",
       "      <td>-21.073640</td>\n",
       "      <td>-25.220122</td>\n",
       "      <td>-22.455029</td>\n",
       "      <td>3.483550</td>\n",
       "      <td>298</td>\n",
       "    </tr>\n",
       "    <tr>\n",
       "      <th>2</th>\n",
       "      <td>0.002103</td>\n",
       "      <td>0.000702</td>\n",
       "      <td>0.024195</td>\n",
       "      <td>0.003176</td>\n",
       "      <td>3</td>\n",
       "      <td>{'n_neighbors': 3}</td>\n",
       "      <td>0.613793</td>\n",
       "      <td>0.604801</td>\n",
       "      <td>0.502281</td>\n",
       "      <td>0.617039</td>\n",
       "      <td>0.620152</td>\n",
       "      <td>0.699178</td>\n",
       "      <td>0.658937</td>\n",
       "      <td>0.657493</td>\n",
       "      <td>0.634367</td>\n",
       "      <td>0.581808</td>\n",
       "      <td>0.618985</td>\n",
       "      <td>0.049982</td>\n",
       "      <td>297</td>\n",
       "      <td>-21.385652</td>\n",
       "      <td>-19.066296</td>\n",
       "      <td>-26.026927</td>\n",
       "      <td>-24.069791</td>\n",
       "      <td>-22.052673</td>\n",
       "      <td>-15.384165</td>\n",
       "      <td>-17.865392</td>\n",
       "      <td>-17.459751</td>\n",
       "      <td>-19.290587</td>\n",
       "      <td>-20.972304</td>\n",
       "      <td>-20.357354</td>\n",
       "      <td>3.039397</td>\n",
       "      <td>297</td>\n",
       "    </tr>\n",
       "    <tr>\n",
       "      <th>3</th>\n",
       "      <td>0.001712</td>\n",
       "      <td>0.000453</td>\n",
       "      <td>0.024091</td>\n",
       "      <td>0.001615</td>\n",
       "      <td>4</td>\n",
       "      <td>{'n_neighbors': 4}</td>\n",
       "      <td>0.625681</td>\n",
       "      <td>0.609507</td>\n",
       "      <td>0.555113</td>\n",
       "      <td>0.651493</td>\n",
       "      <td>0.641908</td>\n",
       "      <td>0.724365</td>\n",
       "      <td>0.681053</td>\n",
       "      <td>0.666977</td>\n",
       "      <td>0.667934</td>\n",
       "      <td>0.604000</td>\n",
       "      <td>0.642803</td>\n",
       "      <td>0.044727</td>\n",
       "      <td>296</td>\n",
       "      <td>-20.727394</td>\n",
       "      <td>-18.839258</td>\n",
       "      <td>-23.264186</td>\n",
       "      <td>-21.904290</td>\n",
       "      <td>-20.789610</td>\n",
       "      <td>-14.096084</td>\n",
       "      <td>-16.706921</td>\n",
       "      <td>-16.976267</td>\n",
       "      <td>-17.519605</td>\n",
       "      <td>-19.859403</td>\n",
       "      <td>-19.068302</td>\n",
       "      <td>2.628996</td>\n",
       "      <td>296</td>\n",
       "    </tr>\n",
       "    <tr>\n",
       "      <th>4</th>\n",
       "      <td>0.001846</td>\n",
       "      <td>0.000548</td>\n",
       "      <td>0.025753</td>\n",
       "      <td>0.002570</td>\n",
       "      <td>5</td>\n",
       "      <td>{'n_neighbors': 5}</td>\n",
       "      <td>0.637496</td>\n",
       "      <td>0.636180</td>\n",
       "      <td>0.580210</td>\n",
       "      <td>0.659329</td>\n",
       "      <td>0.654227</td>\n",
       "      <td>0.730065</td>\n",
       "      <td>0.696909</td>\n",
       "      <td>0.679169</td>\n",
       "      <td>0.683281</td>\n",
       "      <td>0.610352</td>\n",
       "      <td>0.656722</td>\n",
       "      <td>0.041246</td>\n",
       "      <td>295</td>\n",
       "      <td>-20.073180</td>\n",
       "      <td>-17.552427</td>\n",
       "      <td>-21.951786</td>\n",
       "      <td>-21.411816</td>\n",
       "      <td>-20.074380</td>\n",
       "      <td>-13.804582</td>\n",
       "      <td>-15.876368</td>\n",
       "      <td>-16.354782</td>\n",
       "      <td>-16.709932</td>\n",
       "      <td>-19.540844</td>\n",
       "      <td>-18.335010</td>\n",
       "      <td>2.525724</td>\n",
       "      <td>295</td>\n",
       "    </tr>\n",
       "    <tr>\n",
       "      <th>...</th>\n",
       "      <td>...</td>\n",
       "      <td>...</td>\n",
       "      <td>...</td>\n",
       "      <td>...</td>\n",
       "      <td>...</td>\n",
       "      <td>...</td>\n",
       "      <td>...</td>\n",
       "      <td>...</td>\n",
       "      <td>...</td>\n",
       "      <td>...</td>\n",
       "      <td>...</td>\n",
       "      <td>...</td>\n",
       "      <td>...</td>\n",
       "      <td>...</td>\n",
       "      <td>...</td>\n",
       "      <td>...</td>\n",
       "      <td>...</td>\n",
       "      <td>...</td>\n",
       "      <td>...</td>\n",
       "      <td>...</td>\n",
       "      <td>...</td>\n",
       "      <td>...</td>\n",
       "      <td>...</td>\n",
       "      <td>...</td>\n",
       "      <td>...</td>\n",
       "      <td>...</td>\n",
       "      <td>...</td>\n",
       "      <td>...</td>\n",
       "      <td>...</td>\n",
       "      <td>...</td>\n",
       "      <td>...</td>\n",
       "      <td>...</td>\n",
       "    </tr>\n",
       "    <tr>\n",
       "      <th>294</th>\n",
       "      <td>0.002603</td>\n",
       "      <td>0.000702</td>\n",
       "      <td>0.044292</td>\n",
       "      <td>0.004800</td>\n",
       "      <td>295</td>\n",
       "      <td>{'n_neighbors': 295}</td>\n",
       "      <td>0.677096</td>\n",
       "      <td>0.712059</td>\n",
       "      <td>0.659328</td>\n",
       "      <td>0.693407</td>\n",
       "      <td>0.722545</td>\n",
       "      <td>0.740022</td>\n",
       "      <td>0.730623</td>\n",
       "      <td>0.727901</td>\n",
       "      <td>0.733727</td>\n",
       "      <td>0.697874</td>\n",
       "      <td>0.709458</td>\n",
       "      <td>0.025380</td>\n",
       "      <td>260</td>\n",
       "      <td>-17.880363</td>\n",
       "      <td>-13.891664</td>\n",
       "      <td>-17.814563</td>\n",
       "      <td>-19.269971</td>\n",
       "      <td>-16.108095</td>\n",
       "      <td>-13.295374</td>\n",
       "      <td>-14.110367</td>\n",
       "      <td>-13.870614</td>\n",
       "      <td>-14.048410</td>\n",
       "      <td>-15.151616</td>\n",
       "      <td>-15.544104</td>\n",
       "      <td>1.996194</td>\n",
       "      <td>260</td>\n",
       "    </tr>\n",
       "    <tr>\n",
       "      <th>295</th>\n",
       "      <td>0.002752</td>\n",
       "      <td>0.000520</td>\n",
       "      <td>0.043942</td>\n",
       "      <td>0.005299</td>\n",
       "      <td>296</td>\n",
       "      <td>{'n_neighbors': 296}</td>\n",
       "      <td>0.676882</td>\n",
       "      <td>0.712061</td>\n",
       "      <td>0.659301</td>\n",
       "      <td>0.693330</td>\n",
       "      <td>0.722483</td>\n",
       "      <td>0.740037</td>\n",
       "      <td>0.730602</td>\n",
       "      <td>0.727858</td>\n",
       "      <td>0.733573</td>\n",
       "      <td>0.697797</td>\n",
       "      <td>0.709392</td>\n",
       "      <td>0.025400</td>\n",
       "      <td>261</td>\n",
       "      <td>-17.892229</td>\n",
       "      <td>-13.891585</td>\n",
       "      <td>-17.815942</td>\n",
       "      <td>-19.274812</td>\n",
       "      <td>-16.111704</td>\n",
       "      <td>-13.294622</td>\n",
       "      <td>-14.111466</td>\n",
       "      <td>-13.872805</td>\n",
       "      <td>-14.056553</td>\n",
       "      <td>-15.155454</td>\n",
       "      <td>-15.547717</td>\n",
       "      <td>1.997891</td>\n",
       "      <td>261</td>\n",
       "    </tr>\n",
       "    <tr>\n",
       "      <th>296</th>\n",
       "      <td>0.002050</td>\n",
       "      <td>0.000566</td>\n",
       "      <td>0.041744</td>\n",
       "      <td>0.004113</td>\n",
       "      <td>297</td>\n",
       "      <td>{'n_neighbors': 297}</td>\n",
       "      <td>0.676785</td>\n",
       "      <td>0.711904</td>\n",
       "      <td>0.659224</td>\n",
       "      <td>0.693208</td>\n",
       "      <td>0.722316</td>\n",
       "      <td>0.740009</td>\n",
       "      <td>0.730655</td>\n",
       "      <td>0.727750</td>\n",
       "      <td>0.733626</td>\n",
       "      <td>0.697676</td>\n",
       "      <td>0.709315</td>\n",
       "      <td>0.025429</td>\n",
       "      <td>263</td>\n",
       "      <td>-17.897557</td>\n",
       "      <td>-13.899122</td>\n",
       "      <td>-17.819995</td>\n",
       "      <td>-19.282443</td>\n",
       "      <td>-16.121373</td>\n",
       "      <td>-13.296026</td>\n",
       "      <td>-14.108677</td>\n",
       "      <td>-13.878304</td>\n",
       "      <td>-14.053758</td>\n",
       "      <td>-15.161518</td>\n",
       "      <td>-15.551877</td>\n",
       "      <td>1.999723</td>\n",
       "      <td>264</td>\n",
       "    </tr>\n",
       "    <tr>\n",
       "      <th>297</th>\n",
       "      <td>0.002306</td>\n",
       "      <td>0.000478</td>\n",
       "      <td>0.043313</td>\n",
       "      <td>0.005608</td>\n",
       "      <td>298</td>\n",
       "      <td>{'n_neighbors': 298}</td>\n",
       "      <td>0.676816</td>\n",
       "      <td>0.711861</td>\n",
       "      <td>0.659162</td>\n",
       "      <td>0.693178</td>\n",
       "      <td>0.722163</td>\n",
       "      <td>0.739941</td>\n",
       "      <td>0.730748</td>\n",
       "      <td>0.727726</td>\n",
       "      <td>0.733776</td>\n",
       "      <td>0.697659</td>\n",
       "      <td>0.709303</td>\n",
       "      <td>0.025444</td>\n",
       "      <td>264</td>\n",
       "      <td>-17.895856</td>\n",
       "      <td>-13.901206</td>\n",
       "      <td>-17.823235</td>\n",
       "      <td>-19.284317</td>\n",
       "      <td>-16.130257</td>\n",
       "      <td>-13.299496</td>\n",
       "      <td>-14.103816</td>\n",
       "      <td>-13.879508</td>\n",
       "      <td>-14.045845</td>\n",
       "      <td>-15.162370</td>\n",
       "      <td>-15.552591</td>\n",
       "      <td>2.000760</td>\n",
       "      <td>265</td>\n",
       "    </tr>\n",
       "    <tr>\n",
       "      <th>298</th>\n",
       "      <td>0.002344</td>\n",
       "      <td>0.000450</td>\n",
       "      <td>0.043682</td>\n",
       "      <td>0.004104</td>\n",
       "      <td>299</td>\n",
       "      <td>{'n_neighbors': 299}</td>\n",
       "      <td>0.676774</td>\n",
       "      <td>0.711837</td>\n",
       "      <td>0.659215</td>\n",
       "      <td>0.693226</td>\n",
       "      <td>0.722133</td>\n",
       "      <td>0.740014</td>\n",
       "      <td>0.730800</td>\n",
       "      <td>0.727750</td>\n",
       "      <td>0.733904</td>\n",
       "      <td>0.697593</td>\n",
       "      <td>0.709324</td>\n",
       "      <td>0.025464</td>\n",
       "      <td>262</td>\n",
       "      <td>-17.898192</td>\n",
       "      <td>-13.902376</td>\n",
       "      <td>-17.820478</td>\n",
       "      <td>-19.281319</td>\n",
       "      <td>-16.131996</td>\n",
       "      <td>-13.295790</td>\n",
       "      <td>-14.101092</td>\n",
       "      <td>-13.878302</td>\n",
       "      <td>-14.039083</td>\n",
       "      <td>-15.165715</td>\n",
       "      <td>-15.551434</td>\n",
       "      <td>2.001277</td>\n",
       "      <td>263</td>\n",
       "    </tr>\n",
       "  </tbody>\n",
       "</table>\n",
       "<p>299 rows × 32 columns</p>\n",
       "</div>"
      ],
      "text/plain": [
       "     mean_fit_time  std_fit_time  mean_score_time  std_score_time  \\\n",
       "0         0.001695      0.000457         0.018821        0.006031   \n",
       "1         0.001953      0.000471         0.019721        0.005488   \n",
       "2         0.002103      0.000702         0.024195        0.003176   \n",
       "3         0.001712      0.000453         0.024091        0.001615   \n",
       "4         0.001846      0.000548         0.025753        0.002570   \n",
       "..             ...           ...              ...             ...   \n",
       "294       0.002603      0.000702         0.044292        0.004800   \n",
       "295       0.002752      0.000520         0.043942        0.005299   \n",
       "296       0.002050      0.000566         0.041744        0.004113   \n",
       "297       0.002306      0.000478         0.043313        0.005608   \n",
       "298       0.002344      0.000450         0.043682        0.004104   \n",
       "\n",
       "    param_n_neighbors                params  split0_test_R2  split1_test_R2  \\\n",
       "0                   1    {'n_neighbors': 1}        0.453348        0.417316   \n",
       "1                   2    {'n_neighbors': 2}        0.589742        0.562784   \n",
       "2                   3    {'n_neighbors': 3}        0.613793        0.604801   \n",
       "3                   4    {'n_neighbors': 4}        0.625681        0.609507   \n",
       "4                   5    {'n_neighbors': 5}        0.637496        0.636180   \n",
       "..                ...                   ...             ...             ...   \n",
       "294               295  {'n_neighbors': 295}        0.677096        0.712059   \n",
       "295               296  {'n_neighbors': 296}        0.676882        0.712061   \n",
       "296               297  {'n_neighbors': 297}        0.676785        0.711904   \n",
       "297               298  {'n_neighbors': 298}        0.676816        0.711861   \n",
       "298               299  {'n_neighbors': 299}        0.676774        0.711837   \n",
       "\n",
       "     split2_test_R2  split3_test_R2  split4_test_R2  split5_test_R2  \\\n",
       "0          0.317150        0.410268        0.438089        0.514615   \n",
       "1          0.462753        0.571788        0.579217        0.670800   \n",
       "2          0.502281        0.617039        0.620152        0.699178   \n",
       "3          0.555113        0.651493        0.641908        0.724365   \n",
       "4          0.580210        0.659329        0.654227        0.730065   \n",
       "..              ...             ...             ...             ...   \n",
       "294        0.659328        0.693407        0.722545        0.740022   \n",
       "295        0.659301        0.693330        0.722483        0.740037   \n",
       "296        0.659224        0.693208        0.722316        0.740009   \n",
       "297        0.659162        0.693178        0.722163        0.739941   \n",
       "298        0.659215        0.693226        0.722133        0.740014   \n",
       "\n",
       "     split6_test_R2  split7_test_R2  split8_test_R2  split9_test_R2  \\\n",
       "0          0.492417        0.495502        0.485967        0.344075   \n",
       "1          0.633454        0.627807        0.600571        0.497106   \n",
       "2          0.658937        0.657493        0.634367        0.581808   \n",
       "3          0.681053        0.666977        0.667934        0.604000   \n",
       "4          0.696909        0.679169        0.683281        0.610352   \n",
       "..              ...             ...             ...             ...   \n",
       "294        0.730623        0.727901        0.733727        0.697874   \n",
       "295        0.730602        0.727858        0.733573        0.697797   \n",
       "296        0.730655        0.727750        0.733626        0.697676   \n",
       "297        0.730748        0.727726        0.733776        0.697659   \n",
       "298        0.730800        0.727750        0.733904        0.697593   \n",
       "\n",
       "     mean_test_R2  std_test_R2  rank_test_R2  split0_test_Erro Quadrado médio  \\\n",
       "0        0.436875     0.062678           299                       -30.270107   \n",
       "1        0.579602     0.059065           298                       -22.717465   \n",
       "2        0.618985     0.049982           297                       -21.385652   \n",
       "3        0.642803     0.044727           296                       -20.727394   \n",
       "4        0.656722     0.041246           295                       -20.073180   \n",
       "..            ...          ...           ...                              ...   \n",
       "294      0.709458     0.025380           260                       -17.880363   \n",
       "295      0.709392     0.025400           261                       -17.892229   \n",
       "296      0.709315     0.025429           263                       -17.897557   \n",
       "297      0.709303     0.025444           264                       -17.895856   \n",
       "298      0.709324     0.025464           262                       -17.898192   \n",
       "\n",
       "     split1_test_Erro Quadrado médio  split2_test_Erro Quadrado médio  \\\n",
       "0                         -28.111484                       -35.707841   \n",
       "1                         -21.093421                       -28.093910   \n",
       "2                         -19.066296                       -26.026927   \n",
       "3                         -18.839258                       -23.264186   \n",
       "4                         -17.552427                       -21.951786   \n",
       "..                               ...                              ...   \n",
       "294                       -13.891664                       -17.814563   \n",
       "295                       -13.891585                       -17.815942   \n",
       "296                       -13.899122                       -17.819995   \n",
       "297                       -13.901206                       -17.823235   \n",
       "298                       -13.902376                       -17.820478   \n",
       "\n",
       "     split3_test_Erro Quadrado médio  split4_test_Erro Quadrado médio  \\\n",
       "0                         -37.065795                       -32.622644   \n",
       "1                         -26.913909                       -24.429201   \n",
       "2                         -24.069791                       -22.052673   \n",
       "3                         -21.904290                       -20.789610   \n",
       "4                         -21.411816                       -20.074380   \n",
       "..                               ...                              ...   \n",
       "294                       -19.269971                       -16.108095   \n",
       "295                       -19.274812                       -16.111704   \n",
       "296                       -19.282443                       -16.121373   \n",
       "297                       -19.284317                       -16.130257   \n",
       "298                       -19.281319                       -16.131996   \n",
       "\n",
       "     split5_test_Erro Quadrado médio  split6_test_Erro Quadrado médio  \\\n",
       "0                         -24.822734                       -26.587920   \n",
       "1                         -16.835408                       -19.200191   \n",
       "2                         -15.384165                       -17.865392   \n",
       "3                         -14.096084                       -16.706921   \n",
       "4                         -13.804582                       -15.876368   \n",
       "..                               ...                              ...   \n",
       "294                       -13.295374                       -14.110367   \n",
       "295                       -13.294622                       -14.111466   \n",
       "296                       -13.296026                       -14.108677   \n",
       "297                       -13.299496                       -14.103816   \n",
       "298                       -13.295790                       -14.101092   \n",
       "\n",
       "     split7_test_Erro Quadrado médio  split8_test_Erro Quadrado médio  \\\n",
       "0                         -25.717436                       -27.120110   \n",
       "1                         -18.973026                       -21.073640   \n",
       "2                         -17.459751                       -19.290587   \n",
       "3                         -16.976267                       -17.519605   \n",
       "4                         -16.354782                       -16.709932   \n",
       "..                               ...                              ...   \n",
       "294                       -13.870614                       -14.048410   \n",
       "295                       -13.872805                       -14.056553   \n",
       "296                       -13.878304                       -14.053758   \n",
       "297                       -13.879508                       -14.045845   \n",
       "298                       -13.878302                       -14.039083   \n",
       "\n",
       "     split9_test_Erro Quadrado médio  mean_test_Erro Quadrado médio  \\\n",
       "0                         -32.894599                     -30.092067   \n",
       "1                         -25.220122                     -22.455029   \n",
       "2                         -20.972304                     -20.357354   \n",
       "3                         -19.859403                     -19.068302   \n",
       "4                         -19.540844                     -18.335010   \n",
       "..                               ...                            ...   \n",
       "294                       -15.151616                     -15.544104   \n",
       "295                       -15.155454                     -15.547717   \n",
       "296                       -15.161518                     -15.551877   \n",
       "297                       -15.162370                     -15.552591   \n",
       "298                       -15.165715                     -15.551434   \n",
       "\n",
       "     std_test_Erro Quadrado médio  rank_test_Erro Quadrado médio  \n",
       "0                        4.079180                            299  \n",
       "1                        3.483550                            298  \n",
       "2                        3.039397                            297  \n",
       "3                        2.628996                            296  \n",
       "4                        2.525724                            295  \n",
       "..                            ...                            ...  \n",
       "294                      1.996194                            260  \n",
       "295                      1.997891                            261  \n",
       "296                      1.999723                            264  \n",
       "297                      2.000760                            265  \n",
       "298                      2.001277                            263  \n",
       "\n",
       "[299 rows x 32 columns]"
      ]
     },
     "execution_count": 18,
     "metadata": {},
     "output_type": "execute_result"
    }
   ],
   "source": [
    "pd.set_option('display.max_columns', None)\n",
    "resultados"
   ]
  },
  {
   "cell_type": "markdown",
   "metadata": {},
   "source": [
    "* Grafico de como variam as métricas de avaliação do modelo conforme a quantidade de vizinhos do modelo\n",
    "    * Observa-se que próximo a 50 vizinhos as métricas se estabilizam"
   ]
  },
  {
   "cell_type": "code",
   "execution_count": 19,
   "metadata": {},
   "outputs": [
    {
     "data": {
      "image/png": "[encoded data removed]",
      "text/plain": [
       "<Figure size 648x288 with 2 Axes>"
      ]
     },
     "metadata": {
      "needs_background": "light"
     },
     "output_type": "display_data"
    }
   ],
   "source": [
    "fig, axs = plt.subplots(1,2, figsize=(9,4))\n",
    "axs[0].plot(resultados['param_n_neighbors'], resultados['mean_test_R2'])\n",
    "axs[0].set(xlabel='N_Vizinhos', ylabel='R2',\n",
    "       title='R2 vs N_Vizinhos')\n",
    "axs[1].plot(resultados['param_n_neighbors'], abs(resultados['mean_test_Erro Quadrado médio']))\n",
    "axs[1].set(xlabel='N_Vizinhos', ylabel='Erro Quadrado Médio',\n",
    "       title='Erro Quadrado Médio vs N_Vizinhos')\n",
    "fig.suptitle('Parâmetros vs Medidas') \n",
    "plt.subplots_adjust(wspace=0.35,hspace=1)"
   ]
  },
  {
   "cell_type": "code",
   "execution_count": 20,
   "metadata": {},
   "outputs": [],
   "source": [
    "#Normalizar as variáveis da base de teste considerando a média e desvio padrão do conjunto de treino\n",
    "X_test['taxa_analfabetismo_25_mais'] = (X_test['taxa_analfabetismo_25_mais'] - M1)/ D1\n",
    "X_test['taxa_freq_liquida_basico'] = (X_test['taxa_freq_liquida_basico'] - M2)/ D2\n",
    "X_test['prop_vulner_pobreza'] = (X_test['prop_vulner_pobreza'] - M3)/ D3\n",
    "X_test['populacao_65_mais'] = (X_test['populacao_65_mais'] - M4)/ D4"
   ]
  },
  {
   "cell_type": "code",
   "execution_count": 21,
   "metadata": {},
   "outputs": [
    {
     "name": "stdout",
     "output_type": "stream",
     "text": [
      "Erro Quadrado Médio: 15.184738211112592\n",
      "R2: 0.7171619523725996\n"
     ]
    }
   ],
   "source": [
    "#Calcular a performance do modelo nos dados de teste\n",
    "previsoes = KNN.predict(X_test)\n",
    "erro = mean_squared_error(y_test, previsoes)\n",
    "print(\"Erro Quadrado Médio:\", erro)\n",
    "r2 = r2_score(y_test, previsoes)\n",
    "print(\"R2:\", r2)"
   ]
  },
  {
   "cell_type": "markdown",
   "metadata": {},
   "source": [
    "* Calcular os erros"
   ]
  },
  {
   "cell_type": "code",
   "execution_count": 22,
   "metadata": {},
   "outputs": [],
   "source": [
    "erros = pd.DataFrame(columns=['real','previsto'])"
   ]
  },
  {
   "cell_type": "code",
   "execution_count": 23,
   "metadata": {},
   "outputs": [],
   "source": [
    "previsao = []\n",
    "for x in previsoes:\n",
    "    for y in x:\n",
    "        previsao.append(y)"
   ]
  },
  {
   "cell_type": "code",
   "execution_count": 24,
   "metadata": {},
   "outputs": [],
   "source": [
    "for x,y in zip(previsao,y_test['mortalidade_5']):\n",
    "    erros = erros.append({'real': x, 'previsto': y}, ignore_index=True)"
   ]
  },
  {
   "cell_type": "code",
   "execution_count": 25,
   "metadata": {},
   "outputs": [],
   "source": [
    "erros['erro'] = erros['real'] - erros['previsto']"
   ]
  },
  {
   "cell_type": "code",
   "execution_count": 26,
   "metadata": {},
   "outputs": [
    {
     "data": {
      "text/html": [
       "<div>\n",
       "<style scoped>\n",
       "    .dataframe tbody tr th:only-of-type {\n",
       "        vertical-align: middle;\n",
       "    }\n",
       "\n",
       "    .dataframe tbody tr th {\n",
       "        vertical-align: top;\n",
       "    }\n",
       "\n",
       "    .dataframe thead th {\n",
       "        text-align: right;\n",
       "    }\n",
       "</style>\n",
       "<table border=\"1\" class=\"dataframe\">\n",
       "  <thead>\n",
       "    <tr style=\"text-align: right;\">\n",
       "      <th></th>\n",
       "      <th>real</th>\n",
       "      <th>previsto</th>\n",
       "      <th>erro</th>\n",
       "    </tr>\n",
       "  </thead>\n",
       "  <tbody>\n",
       "    <tr>\n",
       "      <th>0</th>\n",
       "      <td>14.361559</td>\n",
       "      <td>14.15</td>\n",
       "      <td>0.211559</td>\n",
       "    </tr>\n",
       "    <tr>\n",
       "      <th>1</th>\n",
       "      <td>33.714009</td>\n",
       "      <td>42.00</td>\n",
       "      <td>-8.285991</td>\n",
       "    </tr>\n",
       "    <tr>\n",
       "      <th>2</th>\n",
       "      <td>29.564252</td>\n",
       "      <td>27.74</td>\n",
       "      <td>1.824252</td>\n",
       "    </tr>\n",
       "    <tr>\n",
       "      <th>3</th>\n",
       "      <td>17.408594</td>\n",
       "      <td>16.17</td>\n",
       "      <td>1.238594</td>\n",
       "    </tr>\n",
       "    <tr>\n",
       "      <th>4</th>\n",
       "      <td>16.794692</td>\n",
       "      <td>14.57</td>\n",
       "      <td>2.224692</td>\n",
       "    </tr>\n",
       "    <tr>\n",
       "      <th>...</th>\n",
       "      <td>...</td>\n",
       "      <td>...</td>\n",
       "      <td>...</td>\n",
       "    </tr>\n",
       "    <tr>\n",
       "      <th>1665</th>\n",
       "      <td>33.856233</td>\n",
       "      <td>28.01</td>\n",
       "      <td>5.846233</td>\n",
       "    </tr>\n",
       "    <tr>\n",
       "      <th>1666</th>\n",
       "      <td>31.511090</td>\n",
       "      <td>41.27</td>\n",
       "      <td>-9.758910</td>\n",
       "    </tr>\n",
       "    <tr>\n",
       "      <th>1667</th>\n",
       "      <td>17.203421</td>\n",
       "      <td>18.29</td>\n",
       "      <td>-1.086579</td>\n",
       "    </tr>\n",
       "    <tr>\n",
       "      <th>1668</th>\n",
       "      <td>28.399619</td>\n",
       "      <td>22.23</td>\n",
       "      <td>6.169619</td>\n",
       "    </tr>\n",
       "    <tr>\n",
       "      <th>1669</th>\n",
       "      <td>18.508253</td>\n",
       "      <td>16.48</td>\n",
       "      <td>2.028253</td>\n",
       "    </tr>\n",
       "  </tbody>\n",
       "</table>\n",
       "<p>1670 rows × 3 columns</p>\n",
       "</div>"
      ],
      "text/plain": [
       "           real  previsto      erro\n",
       "0     14.361559     14.15  0.211559\n",
       "1     33.714009     42.00 -8.285991\n",
       "2     29.564252     27.74  1.824252\n",
       "3     17.408594     16.17  1.238594\n",
       "4     16.794692     14.57  2.224692\n",
       "...         ...       ...       ...\n",
       "1665  33.856233     28.01  5.846233\n",
       "1666  31.511090     41.27 -9.758910\n",
       "1667  17.203421     18.29 -1.086579\n",
       "1668  28.399619     22.23  6.169619\n",
       "1669  18.508253     16.48  2.028253\n",
       "\n",
       "[1670 rows x 3 columns]"
      ]
     },
     "execution_count": 26,
     "metadata": {},
     "output_type": "execute_result"
    }
   ],
   "source": [
    "erros"
   ]
  },
  {
   "cell_type": "markdown",
   "metadata": {},
   "source": [
    "* Os erros estão concentrados em até 5"
   ]
  },
  {
   "cell_type": "code",
   "execution_count": 29,
   "metadata": {},
   "outputs": [
    {
     "data": {
      "text/plain": [
       "<AxesSubplot:>"
      ]
     },
     "execution_count": 29,
     "metadata": {},
     "output_type": "execute_result"
    },
    {
     "data": {
      "image/png": "[encoded data removed]",
      "text/plain": [
       "<Figure size 432x288 with 1 Axes>"
      ]
     },
     "metadata": {
      "needs_background": "light"
     },
     "output_type": "display_data"
    }
   ],
   "source": [
    "erros['erro'].hist()"
   ]
  },
  {
   "cell_type": "code",
   "execution_count": 30,
   "metadata": {},
   "outputs": [
    {
     "data": {
      "text/plain": [
       "<AxesSubplot:xlabel='erro'>"
      ]
     },
     "execution_count": 30,
     "metadata": {},
     "output_type": "execute_result"
    },
    {
     "data": {
      "image/png": "[encoded data removed]",
      "text/plain": [
       "<Figure size 432x288 with 1 Axes>"
      ]
     },
     "metadata": {
      "needs_background": "light"
     },
     "output_type": "display_data"
    }
   ],
   "source": [
    "sns.boxplot(x=erros[\"erro\"], palette=\"Blues\")"
   ]
  },
  {
   "cell_type": "code",
   "execution_count": 31,
   "metadata": {},
   "outputs": [
    {
     "data": {
      "text/plain": [
       "0.10   -4.472387\n",
       "0.25   -1.995858\n",
       "0.50    0.277010\n",
       "0.75    2.251748\n",
       "0.90    4.215221\n",
       "Name: erro, dtype: float64"
      ]
     },
     "execution_count": 31,
     "metadata": {},
     "output_type": "execute_result"
    }
   ],
   "source": [
    "erros['erro'].quantile([.1,.25,.5,.75,0.9])"
   ]
  },
  {
   "cell_type": "markdown",
   "metadata": {},
   "source": [
    "# Classificação"
   ]
  },
  {
   "cell_type": "code",
   "execution_count": 32,
   "metadata": {},
   "outputs": [],
   "source": [
    "from sklearn.neighbors import KNeighborsClassifier\n",
    "from sklearn.metrics import roc_auc_score\n",
    "from sklearn.metrics import roc_curve\n",
    "from sklearn.metrics import f1_score"
   ]
  },
  {
   "cell_type": "code",
   "execution_count": 33,
   "metadata": {},
   "outputs": [
    {
     "data": {
      "text/html": [
       "<div>\n",
       "<style scoped>\n",
       "    .dataframe tbody tr th:only-of-type {\n",
       "        vertical-align: middle;\n",
       "    }\n",
       "\n",
       "    .dataframe tbody tr th {\n",
       "        vertical-align: top;\n",
       "    }\n",
       "\n",
       "    .dataframe thead th {\n",
       "        text-align: right;\n",
       "    }\n",
       "</style>\n",
       "<table border=\"1\" class=\"dataframe\">\n",
       "  <thead>\n",
       "    <tr style=\"text-align: right;\">\n",
       "      <th></th>\n",
       "      <th>ano</th>\n",
       "      <th>mortalidade_5</th>\n",
       "      <th>taxa_analfabetismo_25_mais</th>\n",
       "      <th>taxa_freq_liquida_basico</th>\n",
       "      <th>prop_vulner_pobreza</th>\n",
       "      <th>populacao_65_mais</th>\n",
       "    </tr>\n",
       "  </thead>\n",
       "  <tbody>\n",
       "    <tr>\n",
       "      <th>2</th>\n",
       "      <td>2010</td>\n",
       "      <td>25.49</td>\n",
       "      <td>15.76</td>\n",
       "      <td>85.25</td>\n",
       "      <td>47.12</td>\n",
       "      <td>1425</td>\n",
       "    </tr>\n",
       "    <tr>\n",
       "      <th>5</th>\n",
       "      <td>2010</td>\n",
       "      <td>20.53</td>\n",
       "      <td>10.48</td>\n",
       "      <td>85.46</td>\n",
       "      <td>29.04</td>\n",
       "      <td>3943</td>\n",
       "    </tr>\n",
       "    <tr>\n",
       "      <th>8</th>\n",
       "      <td>2010</td>\n",
       "      <td>26.58</td>\n",
       "      <td>16.78</td>\n",
       "      <td>88.82</td>\n",
       "      <td>46.98</td>\n",
       "      <td>434</td>\n",
       "    </tr>\n",
       "    <tr>\n",
       "      <th>11</th>\n",
       "      <td>2010</td>\n",
       "      <td>15.38</td>\n",
       "      <td>10.95</td>\n",
       "      <td>88.24</td>\n",
       "      <td>29.82</td>\n",
       "      <td>4378</td>\n",
       "    </tr>\n",
       "    <tr>\n",
       "      <th>14</th>\n",
       "      <td>2010</td>\n",
       "      <td>19.42</td>\n",
       "      <td>13.51</td>\n",
       "      <td>84.69</td>\n",
       "      <td>34.85</td>\n",
       "      <td>1097</td>\n",
       "    </tr>\n",
       "  </tbody>\n",
       "</table>\n",
       "</div>"
      ],
      "text/plain": [
       "     ano  mortalidade_5  taxa_analfabetismo_25_mais  taxa_freq_liquida_basico  \\\n",
       "2   2010          25.49                       15.76                     85.25   \n",
       "5   2010          20.53                       10.48                     85.46   \n",
       "8   2010          26.58                       16.78                     88.82   \n",
       "11  2010          15.38                       10.95                     88.24   \n",
       "14  2010          19.42                       13.51                     84.69   \n",
       "\n",
       "    prop_vulner_pobreza  populacao_65_mais  \n",
       "2                 47.12               1425  \n",
       "5                 29.04               3943  \n",
       "8                 46.98                434  \n",
       "11                29.82               4378  \n",
       "14                34.85               1097  "
      ]
     },
     "execution_count": 33,
     "metadata": {},
     "output_type": "execute_result"
    }
   ],
   "source": [
    "df.head()"
   ]
  },
  {
   "cell_type": "markdown",
   "metadata": {},
   "source": [
    "* Categorizando a variável dependente"
   ]
  },
  {
   "cell_type": "code",
   "execution_count": 34,
   "metadata": {},
   "outputs": [],
   "source": [
    "df['Maior20'] = np.where(df['mortalidade_5'] > 20, 1, 0)"
   ]
  },
  {
   "cell_type": "code",
   "execution_count": 35,
   "metadata": {},
   "outputs": [
    {
     "data": {
      "text/plain": [
       "0    2945\n",
       "1    2620\n",
       "Name: Maior20, dtype: int64"
      ]
     },
     "execution_count": 35,
     "metadata": {},
     "output_type": "execute_result"
    }
   ],
   "source": [
    "df['Maior20'].value_counts()"
   ]
  },
  {
   "cell_type": "code",
   "execution_count": 36,
   "metadata": {},
   "outputs": [],
   "source": [
    "#Retirando variáveis desnecessárias ao modelo e transformando a var. dependente em categoria\n",
    "df.drop(columns=['ano','mortalidade_5'],inplace = True)\n",
    "df.Maior20 = df.Maior20.astype('str')"
   ]
  },
  {
   "cell_type": "markdown",
   "metadata": {},
   "source": [
    "* PLotando o boxplot das variáveis independentes segmentadas pela variável dependente (categórica)\n",
    "    * O comportamento das variáveis de taxa de analfabetismo e vulnerabilidade de pobreza é distinta conforme a var. dependente"
   ]
  },
  {
   "cell_type": "code",
   "execution_count": 37,
   "metadata": {},
   "outputs": [
    {
     "data": {
      "text/plain": [
       "<AxesSubplot:xlabel='Maior20', ylabel='populacao_65_mais'>"
      ]
     },
     "execution_count": 37,
     "metadata": {},
     "output_type": "execute_result"
    },
    {
     "data": {
      "image/png": "[encoded data removed]",
      "text/plain": [
       "<Figure size 864x288 with 4 Axes>"
      ]
     },
     "metadata": {
      "needs_background": "light"
     },
     "output_type": "display_data"
    }
   ],
   "source": [
    "fig, axs = plt.subplots(1,4, figsize=(12,4))\n",
    "plt.subplots_adjust(wspace=0.5,hspace=5)\n",
    "fig.suptitle('Variáveis vs Taxa de Mortalidade Infantil maior que 20') \n",
    "sns.boxplot(ax = axs[0],x=df[\"Maior20\"], y=df[\"taxa_analfabetismo_25_mais\"], palette=\"Reds\")\n",
    "sns.boxplot(ax = axs[1],x=df[\"Maior20\"], y=df[\"taxa_freq_liquida_basico\"], palette=\"Reds\")\n",
    "sns.boxplot(ax = axs[2],x=df[\"Maior20\"], y=df[\"prop_vulner_pobreza\"], palette=\"Reds\")\n",
    "sns.boxplot(ax = axs[3],x=df[\"Maior20\"], y=df[\"populacao_65_mais\"], palette=\"Reds\", showfliers = False)"
   ]
  },
  {
   "cell_type": "markdown",
   "metadata": {},
   "source": [
    "* Calculando o R2 entre as variaveis independentes (quantitativas) e a variável dependente (qualitativa)\n",
    "    * As variáveis de vulnerabilidade a pobreza e taxa analfabetismo tem um bom R2 com a variavel dependente"
   ]
  },
  {
   "cell_type": "code",
   "execution_count": 38,
   "metadata": {},
   "outputs": [
    {
     "data": {
      "text/html": [
       "<div>\n",
       "<style scoped>\n",
       "    .dataframe tbody tr th:only-of-type {\n",
       "        vertical-align: middle;\n",
       "    }\n",
       "\n",
       "    .dataframe tbody tr th {\n",
       "        vertical-align: top;\n",
       "    }\n",
       "\n",
       "    .dataframe thead th {\n",
       "        text-align: right;\n",
       "    }\n",
       "</style>\n",
       "<table border=\"1\" class=\"dataframe\">\n",
       "  <thead>\n",
       "    <tr style=\"text-align: right;\">\n",
       "      <th></th>\n",
       "      <th>VarQuanti</th>\n",
       "      <th>VarQuali</th>\n",
       "      <th>var*n / n_total</th>\n",
       "      <th>R2</th>\n",
       "    </tr>\n",
       "  </thead>\n",
       "  <tbody>\n",
       "    <tr>\n",
       "      <th>2</th>\n",
       "      <td>prop_vulner_pobreza</td>\n",
       "      <td>Maior20</td>\n",
       "      <td>1.923560e+02</td>\n",
       "      <td>0.617934</td>\n",
       "    </tr>\n",
       "    <tr>\n",
       "      <th>0</th>\n",
       "      <td>taxa_analfabetismo_25_mais</td>\n",
       "      <td>Maior20</td>\n",
       "      <td>6.988561e+01</td>\n",
       "      <td>0.571177</td>\n",
       "    </tr>\n",
       "    <tr>\n",
       "      <th>3</th>\n",
       "      <td>populacao_65_mais</td>\n",
       "      <td>Maior20</td>\n",
       "      <td>2.806437e+08</td>\n",
       "      <td>0.004506</td>\n",
       "    </tr>\n",
       "    <tr>\n",
       "      <th>1</th>\n",
       "      <td>taxa_freq_liquida_basico</td>\n",
       "      <td>Maior20</td>\n",
       "      <td>1.634031e+01</td>\n",
       "      <td>0.000003</td>\n",
       "    </tr>\n",
       "  </tbody>\n",
       "</table>\n",
       "</div>"
      ],
      "text/plain": [
       "                    VarQuanti VarQuali  var*n / n_total        R2\n",
       "2         prop_vulner_pobreza  Maior20     1.923560e+02  0.617934\n",
       "0  taxa_analfabetismo_25_mais  Maior20     6.988561e+01  0.571177\n",
       "3           populacao_65_mais  Maior20     2.806437e+08  0.004506\n",
       "1    taxa_freq_liquida_basico  Maior20     1.634031e+01  0.000003"
      ]
     },
     "execution_count": 38,
     "metadata": {},
     "output_type": "execute_result"
    }
   ],
   "source": [
    "CATVAR = df.select_dtypes(include=['object']).columns.tolist()\n",
    "NUMVAR = df.select_dtypes(include=['float64','int64']).columns.tolist()\n",
    "r2 = pd.DataFrame(columns=['VarQuanti','VarQuali','var*n / n_total','R2'])\n",
    "for z in NUMVAR:\n",
    "    for x in CATVAR:\n",
    "        dfr = df[x].value_counts().reset_index()\n",
    "        f = 0\n",
    "        a1 = 0\n",
    "        for y in range(len(dfr)):\n",
    "            a = dfr.iloc[y,1]\n",
    "            a1 = a1 + a\n",
    "            c = (df[df[x] == dfr.iloc[y,0]])\n",
    "            e = (c[z].var())*a\n",
    "            f = f + e\n",
    "        f = f/a1\n",
    "        r2_calc = 1 - (f/df[z].var())\n",
    "        r2 = r2.append({'VarQuanti' : z, 'VarQuali' : x,'var*n / n_total' : f, 'R2' : r2_calc}, ignore_index=True)\n",
    "r2 = r2.sort_values(by = 'R2', ascending = False)\n",
    "r2"
   ]
  },
  {
   "cell_type": "code",
   "execution_count": 39,
   "metadata": {},
   "outputs": [],
   "source": [
    "X = df[['taxa_analfabetismo_25_mais','taxa_freq_liquida_basico',\n",
    "         'prop_vulner_pobreza','populacao_65_mais']]\n",
    "Y = df[['Maior20']]"
   ]
  },
  {
   "cell_type": "markdown",
   "metadata": {},
   "source": [
    "* Dividindo entre treino e teste"
   ]
  },
  {
   "cell_type": "code",
   "execution_count": 40,
   "metadata": {},
   "outputs": [],
   "source": [
    "X_train, X_test, y_train, y_test = train_test_split(X, Y, test_size=0.30, random_state=0)"
   ]
  },
  {
   "cell_type": "markdown",
   "metadata": {},
   "source": [
    "* Calculo das médias e desvios-padrão das variáveis para posterior normalizacao"
   ]
  },
  {
   "cell_type": "code",
   "execution_count": 41,
   "metadata": {},
   "outputs": [],
   "source": [
    "M1 = X_train['taxa_analfabetismo_25_mais'].mean()\n",
    "M2 = X_train['taxa_freq_liquida_basico'].mean()\n",
    "M3 = X_train['prop_vulner_pobreza'].mean()\n",
    "M4 = X_train['populacao_65_mais'].mean()\n",
    "D1 = np.std(X_train['taxa_analfabetismo_25_mais'])\n",
    "D2 = np.std(X_train['taxa_freq_liquida_basico'])\n",
    "D3 = np.std(X_train['prop_vulner_pobreza'])\n",
    "D4 = np.std(X_train['populacao_65_mais'])"
   ]
  },
  {
   "cell_type": "markdown",
   "metadata": {},
   "source": [
    "* Normalizaçao das variáveis independentes "
   ]
  },
  {
   "cell_type": "code",
   "execution_count": 42,
   "metadata": {},
   "outputs": [],
   "source": [
    "X_train['taxa_analfabetismo_25_mais'] = (X_train['taxa_analfabetismo_25_mais'] - M1)/ D1\n",
    "X_train['taxa_freq_liquida_basico'] = (X_train['taxa_freq_liquida_basico'] - M2)/ D2\n",
    "X_train['prop_vulner_pobreza'] = (X_train['prop_vulner_pobreza'] - M3)/ D3\n",
    "X_train['populacao_65_mais'] = (X_train['populacao_65_mais'] - M4)/ D4"
   ]
  },
  {
   "cell_type": "markdown",
   "metadata": {},
   "source": [
    "* Hiperparametro a ser ajustado é o número de vizinhos (De 1 até 300)\n",
    "    * As métricas de avaliação do modelo a serem calculadas nas iterações são: f1_score e ROC AUC Score\n",
    "        * F1_score: Média harmônica entre o precision e o recall do modelo:\n",
    "             * Precision: % das previsões positivas do modelo que realmente são positivas\n",
    "             * Recall: Dos casos positivos da base, quanto % o modelo acertou que são positivas\n",
    "        * ROC AUC Score: Área sob a curva ROC, mensura o quão bem o modelo esta identificando os verdadeiros positivos sem elevar os falsos positivos"
   ]
  },
  {
   "cell_type": "code",
   "execution_count": 43,
   "metadata": {},
   "outputs": [],
   "source": [
    "parametro = {'n_neighbors':np.arange(1, 300,1)}\n",
    "scoring = {'AUC': 'roc_auc', 'f1': 'f1'}"
   ]
  },
  {
   "cell_type": "code",
   "execution_count": 44,
   "metadata": {},
   "outputs": [],
   "source": [
    "knn = KNeighborsClassifier(weights = 'distance',algorithm = 'brute')"
   ]
  },
  {
   "cell_type": "code",
   "execution_count": 45,
   "metadata": {},
   "outputs": [],
   "source": [
    "#Iterando (cross-validation) para obter o melhor hiperparâmetro com base na métrica do ROC AUC Score\n",
    "KNN = GridSearchCV(knn, parametro, scoring= scoring, refit = 'AUC', cv=10)"
   ]
  },
  {
   "cell_type": "code",
   "execution_count": 46,
   "metadata": {},
   "outputs": [],
   "source": [
    "y_train.Maior20 = y_train.Maior20.astype('int64')\n",
    "y_test.Maior20 = y_test.Maior20.astype('int64')"
   ]
  },
  {
   "cell_type": "code",
   "execution_count": 47,
   "metadata": {},
   "outputs": [
    {
     "data": {
      "text/plain": [
       "GridSearchCV(cv=10, error_score=nan,\n",
       "             estimator=KNeighborsClassifier(algorithm='brute', leaf_size=30,\n",
       "                                            metric='minkowski',\n",
       "                                            metric_params=None, n_jobs=None,\n",
       "                                            n_neighbors=5, p=2,\n",
       "                                            weights='distance'),\n",
       "             iid='deprecated', n_jobs=None,\n",
       "             param_grid={'n_neighbors': array([  1,   2,   3,   4,   5,   6,   7,   8,   9,  10,  11,  12,  13,\n",
       "        14,  15,  16,  17,  18,  19,  20,  21,  22,  23,  24,  25,  26,\n",
       "        27,  28,  29,  30,  31,  32,  33,  34,  35,  36,  37,  3...\n",
       "       235, 236, 237, 238, 239, 240, 241, 242, 243, 244, 245, 246, 247,\n",
       "       248, 249, 250, 251, 252, 253, 254, 255, 256, 257, 258, 259, 260,\n",
       "       261, 262, 263, 264, 265, 266, 267, 268, 269, 270, 271, 272, 273,\n",
       "       274, 275, 276, 277, 278, 279, 280, 281, 282, 283, 284, 285, 286,\n",
       "       287, 288, 289, 290, 291, 292, 293, 294, 295, 296, 297, 298, 299])},\n",
       "             pre_dispatch='2*n_jobs', refit='AUC', return_train_score=False,\n",
       "             scoring={'AUC': 'roc_auc', 'f1': 'f1'}, verbose=0)"
      ]
     },
     "execution_count": 47,
     "metadata": {},
     "output_type": "execute_result"
    }
   ],
   "source": [
    "KNN.fit(X_train,y_train)"
   ]
  },
  {
   "cell_type": "code",
   "execution_count": 48,
   "metadata": {},
   "outputs": [
    {
     "name": "stdout",
     "output_type": "stream",
     "text": [
      "110\n",
      "0.9523290675287504\n"
     ]
    }
   ],
   "source": [
    "# O número de vizinhos que resulta no maior ROC AUC Score (0,952) é de 110\n",
    "print(KNN.best_estimator_.n_neighbors)\n",
    "print(KNN.best_score_)"
   ]
  },
  {
   "cell_type": "markdown",
   "metadata": {},
   "source": [
    "* Informacoes das iterações com as métricas em cada split "
   ]
  },
  {
   "cell_type": "code",
   "execution_count": 49,
   "metadata": {},
   "outputs": [
    {
     "data": {
      "text/html": [
       "<div>\n",
       "<style scoped>\n",
       "    .dataframe tbody tr th:only-of-type {\n",
       "        vertical-align: middle;\n",
       "    }\n",
       "\n",
       "    .dataframe tbody tr th {\n",
       "        vertical-align: top;\n",
       "    }\n",
       "\n",
       "    .dataframe thead th {\n",
       "        text-align: right;\n",
       "    }\n",
       "</style>\n",
       "<table border=\"1\" class=\"dataframe\">\n",
       "  <thead>\n",
       "    <tr style=\"text-align: right;\">\n",
       "      <th></th>\n",
       "      <th>mean_fit_time</th>\n",
       "      <th>std_fit_time</th>\n",
       "      <th>mean_score_time</th>\n",
       "      <th>std_score_time</th>\n",
       "      <th>param_n_neighbors</th>\n",
       "      <th>params</th>\n",
       "      <th>split0_test_AUC</th>\n",
       "      <th>split1_test_AUC</th>\n",
       "      <th>split2_test_AUC</th>\n",
       "      <th>split3_test_AUC</th>\n",
       "      <th>split4_test_AUC</th>\n",
       "      <th>split5_test_AUC</th>\n",
       "      <th>split6_test_AUC</th>\n",
       "      <th>split7_test_AUC</th>\n",
       "      <th>split8_test_AUC</th>\n",
       "      <th>split9_test_AUC</th>\n",
       "      <th>mean_test_AUC</th>\n",
       "      <th>std_test_AUC</th>\n",
       "      <th>rank_test_AUC</th>\n",
       "      <th>split0_test_f1</th>\n",
       "      <th>split1_test_f1</th>\n",
       "      <th>split2_test_f1</th>\n",
       "      <th>split3_test_f1</th>\n",
       "      <th>split4_test_f1</th>\n",
       "      <th>split5_test_f1</th>\n",
       "      <th>split6_test_f1</th>\n",
       "      <th>split7_test_f1</th>\n",
       "      <th>split8_test_f1</th>\n",
       "      <th>split9_test_f1</th>\n",
       "      <th>mean_test_f1</th>\n",
       "      <th>std_test_f1</th>\n",
       "      <th>rank_test_f1</th>\n",
       "    </tr>\n",
       "  </thead>\n",
       "  <tbody>\n",
       "    <tr>\n",
       "      <th>0</th>\n",
       "      <td>0.002294</td>\n",
       "      <td>0.000648</td>\n",
       "      <td>0.035454</td>\n",
       "      <td>0.004411</td>\n",
       "      <td>1</td>\n",
       "      <td>{'n_neighbors': 1}</td>\n",
       "      <td>0.820230</td>\n",
       "      <td>0.840518</td>\n",
       "      <td>0.845953</td>\n",
       "      <td>0.856242</td>\n",
       "      <td>0.826931</td>\n",
       "      <td>0.828234</td>\n",
       "      <td>0.856177</td>\n",
       "      <td>0.841477</td>\n",
       "      <td>0.855620</td>\n",
       "      <td>0.816808</td>\n",
       "      <td>0.838819</td>\n",
       "      <td>0.014253</td>\n",
       "      <td>299</td>\n",
       "      <td>0.810811</td>\n",
       "      <td>0.831522</td>\n",
       "      <td>0.837838</td>\n",
       "      <td>0.848649</td>\n",
       "      <td>0.815427</td>\n",
       "      <td>0.821333</td>\n",
       "      <td>0.849462</td>\n",
       "      <td>0.830084</td>\n",
       "      <td>0.847826</td>\n",
       "      <td>0.806540</td>\n",
       "      <td>0.829949</td>\n",
       "      <td>0.015212</td>\n",
       "      <td>298</td>\n",
       "    </tr>\n",
       "    <tr>\n",
       "      <th>1</th>\n",
       "      <td>0.002296</td>\n",
       "      <td>0.000643</td>\n",
       "      <td>0.037738</td>\n",
       "      <td>0.004319</td>\n",
       "      <td>2</td>\n",
       "      <td>{'n_neighbors': 2}</td>\n",
       "      <td>0.871597</td>\n",
       "      <td>0.881358</td>\n",
       "      <td>0.898164</td>\n",
       "      <td>0.907226</td>\n",
       "      <td>0.877163</td>\n",
       "      <td>0.890774</td>\n",
       "      <td>0.903632</td>\n",
       "      <td>0.889051</td>\n",
       "      <td>0.903393</td>\n",
       "      <td>0.878420</td>\n",
       "      <td>0.890078</td>\n",
       "      <td>0.012010</td>\n",
       "      <td>298</td>\n",
       "      <td>0.810811</td>\n",
       "      <td>0.831522</td>\n",
       "      <td>0.837838</td>\n",
       "      <td>0.848649</td>\n",
       "      <td>0.815427</td>\n",
       "      <td>0.821333</td>\n",
       "      <td>0.849462</td>\n",
       "      <td>0.830084</td>\n",
       "      <td>0.847826</td>\n",
       "      <td>0.806540</td>\n",
       "      <td>0.829949</td>\n",
       "      <td>0.015212</td>\n",
       "      <td>298</td>\n",
       "    </tr>\n",
       "    <tr>\n",
       "      <th>2</th>\n",
       "      <td>0.002187</td>\n",
       "      <td>0.000744</td>\n",
       "      <td>0.045881</td>\n",
       "      <td>0.005726</td>\n",
       "      <td>3</td>\n",
       "      <td>{'n_neighbors': 3}</td>\n",
       "      <td>0.903665</td>\n",
       "      <td>0.895578</td>\n",
       "      <td>0.901039</td>\n",
       "      <td>0.928688</td>\n",
       "      <td>0.894391</td>\n",
       "      <td>0.920440</td>\n",
       "      <td>0.919499</td>\n",
       "      <td>0.904865</td>\n",
       "      <td>0.919777</td>\n",
       "      <td>0.898887</td>\n",
       "      <td>0.908683</td>\n",
       "      <td>0.011613</td>\n",
       "      <td>297</td>\n",
       "      <td>0.843836</td>\n",
       "      <td>0.839237</td>\n",
       "      <td>0.843575</td>\n",
       "      <td>0.866667</td>\n",
       "      <td>0.830508</td>\n",
       "      <td>0.855586</td>\n",
       "      <td>0.867403</td>\n",
       "      <td>0.849162</td>\n",
       "      <td>0.869081</td>\n",
       "      <td>0.838527</td>\n",
       "      <td>0.850358</td>\n",
       "      <td>0.012969</td>\n",
       "      <td>297</td>\n",
       "    </tr>\n",
       "    <tr>\n",
       "      <th>3</th>\n",
       "      <td>0.002297</td>\n",
       "      <td>0.000456</td>\n",
       "      <td>0.051599</td>\n",
       "      <td>0.003823</td>\n",
       "      <td>4</td>\n",
       "      <td>{'n_neighbors': 4}</td>\n",
       "      <td>0.919982</td>\n",
       "      <td>0.910907</td>\n",
       "      <td>0.909996</td>\n",
       "      <td>0.944913</td>\n",
       "      <td>0.906052</td>\n",
       "      <td>0.931707</td>\n",
       "      <td>0.926007</td>\n",
       "      <td>0.922296</td>\n",
       "      <td>0.927386</td>\n",
       "      <td>0.908112</td>\n",
       "      <td>0.920736</td>\n",
       "      <td>0.011691</td>\n",
       "      <td>296</td>\n",
       "      <td>0.849315</td>\n",
       "      <td>0.849315</td>\n",
       "      <td>0.843836</td>\n",
       "      <td>0.869806</td>\n",
       "      <td>0.836158</td>\n",
       "      <td>0.848649</td>\n",
       "      <td>0.864266</td>\n",
       "      <td>0.852273</td>\n",
       "      <td>0.868347</td>\n",
       "      <td>0.845938</td>\n",
       "      <td>0.852790</td>\n",
       "      <td>0.010529</td>\n",
       "      <td>296</td>\n",
       "    </tr>\n",
       "    <tr>\n",
       "      <th>4</th>\n",
       "      <td>0.002892</td>\n",
       "      <td>0.000537</td>\n",
       "      <td>0.057966</td>\n",
       "      <td>0.004780</td>\n",
       "      <td>5</td>\n",
       "      <td>{'n_neighbors': 5}</td>\n",
       "      <td>0.928596</td>\n",
       "      <td>0.921763</td>\n",
       "      <td>0.919111</td>\n",
       "      <td>0.945151</td>\n",
       "      <td>0.912278</td>\n",
       "      <td>0.932768</td>\n",
       "      <td>0.931508</td>\n",
       "      <td>0.928089</td>\n",
       "      <td>0.937301</td>\n",
       "      <td>0.914104</td>\n",
       "      <td>0.927067</td>\n",
       "      <td>0.009826</td>\n",
       "      <td>295</td>\n",
       "      <td>0.857939</td>\n",
       "      <td>0.864266</td>\n",
       "      <td>0.859551</td>\n",
       "      <td>0.867606</td>\n",
       "      <td>0.847458</td>\n",
       "      <td>0.856369</td>\n",
       "      <td>0.862745</td>\n",
       "      <td>0.866856</td>\n",
       "      <td>0.870523</td>\n",
       "      <td>0.856322</td>\n",
       "      <td>0.860963</td>\n",
       "      <td>0.006485</td>\n",
       "      <td>295</td>\n",
       "    </tr>\n",
       "  </tbody>\n",
       "</table>\n",
       "</div>"
      ],
      "text/plain": [
       "   mean_fit_time  std_fit_time  mean_score_time  std_score_time  \\\n",
       "0       0.002294      0.000648         0.035454        0.004411   \n",
       "1       0.002296      0.000643         0.037738        0.004319   \n",
       "2       0.002187      0.000744         0.045881        0.005726   \n",
       "3       0.002297      0.000456         0.051599        0.003823   \n",
       "4       0.002892      0.000537         0.057966        0.004780   \n",
       "\n",
       "  param_n_neighbors              params  split0_test_AUC  split1_test_AUC  \\\n",
       "0                 1  {'n_neighbors': 1}         0.820230         0.840518   \n",
       "1                 2  {'n_neighbors': 2}         0.871597         0.881358   \n",
       "2                 3  {'n_neighbors': 3}         0.903665         0.895578   \n",
       "3                 4  {'n_neighbors': 4}         0.919982         0.910907   \n",
       "4                 5  {'n_neighbors': 5}         0.928596         0.921763   \n",
       "\n",
       "   split2_test_AUC  split3_test_AUC  split4_test_AUC  split5_test_AUC  \\\n",
       "0         0.845953         0.856242         0.826931         0.828234   \n",
       "1         0.898164         0.907226         0.877163         0.890774   \n",
       "2         0.901039         0.928688         0.894391         0.920440   \n",
       "3         0.909996         0.944913         0.906052         0.931707   \n",
       "4         0.919111         0.945151         0.912278         0.932768   \n",
       "\n",
       "   split6_test_AUC  split7_test_AUC  split8_test_AUC  split9_test_AUC  \\\n",
       "0         0.856177         0.841477         0.855620         0.816808   \n",
       "1         0.903632         0.889051         0.903393         0.878420   \n",
       "2         0.919499         0.904865         0.919777         0.898887   \n",
       "3         0.926007         0.922296         0.927386         0.908112   \n",
       "4         0.931508         0.928089         0.937301         0.914104   \n",
       "\n",
       "   mean_test_AUC  std_test_AUC  rank_test_AUC  split0_test_f1  split1_test_f1  \\\n",
       "0       0.838819      0.014253            299        0.810811        0.831522   \n",
       "1       0.890078      0.012010            298        0.810811        0.831522   \n",
       "2       0.908683      0.011613            297        0.843836        0.839237   \n",
       "3       0.920736      0.011691            296        0.849315        0.849315   \n",
       "4       0.927067      0.009826            295        0.857939        0.864266   \n",
       "\n",
       "   split2_test_f1  split3_test_f1  split4_test_f1  split5_test_f1  \\\n",
       "0        0.837838        0.848649        0.815427        0.821333   \n",
       "1        0.837838        0.848649        0.815427        0.821333   \n",
       "2        0.843575        0.866667        0.830508        0.855586   \n",
       "3        0.843836        0.869806        0.836158        0.848649   \n",
       "4        0.859551        0.867606        0.847458        0.856369   \n",
       "\n",
       "   split6_test_f1  split7_test_f1  split8_test_f1  split9_test_f1  \\\n",
       "0        0.849462        0.830084        0.847826        0.806540   \n",
       "1        0.849462        0.830084        0.847826        0.806540   \n",
       "2        0.867403        0.849162        0.869081        0.838527   \n",
       "3        0.864266        0.852273        0.868347        0.845938   \n",
       "4        0.862745        0.866856        0.870523        0.856322   \n",
       "\n",
       "   mean_test_f1  std_test_f1  rank_test_f1  \n",
       "0      0.829949     0.015212           298  \n",
       "1      0.829949     0.015212           298  \n",
       "2      0.850358     0.012969           297  \n",
       "3      0.852790     0.010529           296  \n",
       "4      0.860963     0.006485           295  "
      ]
     },
     "execution_count": 49,
     "metadata": {},
     "output_type": "execute_result"
    }
   ],
   "source": [
    "resultados = KNN.cv_results_\n",
    "resultados = pd.DataFrame.from_dict(resultados)\n",
    "resultados.head()"
   ]
  },
  {
   "cell_type": "markdown",
   "metadata": {},
   "source": [
    " * Grafico de como variam as métricas de avaliação do modelo conforme a quantidade de vizinhos do modelo\n",
    "    * Próximo a 50 vizinhos as métricas se estabilizam, com pequenas oscilações do F1 Score"
   ]
  },
  {
   "cell_type": "code",
   "execution_count": 50,
   "metadata": {},
   "outputs": [
    {
     "data": {
      "image/png": "[encoded data removed]",
      "text/plain": [
       "<Figure size 648x288 with 2 Axes>"
      ]
     },
     "metadata": {
      "needs_background": "light"
     },
     "output_type": "display_data"
    }
   ],
   "source": [
    "fig, axs = plt.subplots(1,2, figsize=(9,4))\n",
    "axs[0].plot(resultados['param_n_neighbors'], resultados['mean_test_AUC'])\n",
    "axs[0].set(xlabel='N_Vizinhos', ylabel='AUC',\n",
    "       title='AUC vs N_Vizinhos')\n",
    "axs[1].plot(resultados['param_n_neighbors'], abs(resultados['mean_test_f1']))\n",
    "axs[1].set(xlabel='N_Vizinhos', ylabel='F1 Score',\n",
    "       title='F1 Score vs N_Vizinhos')\n",
    "fig.suptitle('Parâmetros vs Medidas') \n",
    "plt.subplots_adjust(wspace=0.35,hspace=1)"
   ]
  },
  {
   "cell_type": "code",
   "execution_count": 51,
   "metadata": {},
   "outputs": [],
   "source": [
    "#Normalizar as variáveis da base de teste considerando a média e desvio padrão do conjunto de treino\n",
    "X_test['taxa_analfabetismo_25_mais'] = (X_test['taxa_analfabetismo_25_mais'] - M1)/ D1\n",
    "X_test['taxa_freq_liquida_basico'] = (X_test['taxa_freq_liquida_basico'] - M2)/ D2\n",
    "X_test['prop_vulner_pobreza'] = (X_test['prop_vulner_pobreza'] - M3)/ D3\n",
    "X_test['populacao_65_mais'] = (X_test['populacao_65_mais'] - M4)/ D4"
   ]
  },
  {
   "cell_type": "code",
   "execution_count": 52,
   "metadata": {},
   "outputs": [
    {
     "data": {
      "text/plain": [
       "0.8720696584058941"
      ]
     },
     "execution_count": 52,
     "metadata": {},
     "output_type": "execute_result"
    }
   ],
   "source": [
    "# Calculo do f1_score nos dados de teste\n",
    "f1_score(y_test, KNN.predict(X_test))"
   ]
  },
  {
   "cell_type": "code",
   "execution_count": 53,
   "metadata": {},
   "outputs": [],
   "source": [
    "# Calculando métricas de avaliação do modelo com base nas probabilidades de cada observação\n",
    "y_score = KNN.predict_proba(X_test)[:,1]\n",
    "fpr, tpr, threshold = roc_curve(y_test, y_score)"
   ]
  },
  {
   "cell_type": "code",
   "execution_count": 54,
   "metadata": {},
   "outputs": [
    {
     "name": "stdout",
     "output_type": "stream",
     "text": [
      "ROC_AUC_SCORE:  0.9525900316911551\n"
     ]
    }
   ],
   "source": [
    "# Calculo do ROC AUC Score nos dados de teste\n",
    "print('ROC_AUC_SCORE: ', roc_auc_score(y_test, y_score))"
   ]
  },
  {
   "cell_type": "markdown",
   "metadata": {},
   "source": [
    "* Desenho da curva ROC"
   ]
  },
  {
   "cell_type": "code",
   "execution_count": 56,
   "metadata": {},
   "outputs": [
    {
     "data": {
      "image/png": "[encoded data removed]",
      "text/plain": [
       "<Figure size 720x720 with 1 Axes>"
      ]
     },
     "metadata": {
      "needs_background": "light"
     },
     "output_type": "display_data"
    }
   ],
   "source": [
    "plt.subplots(1, figsize=(10,10))\n",
    "plt.title('ROC - KNN')\n",
    "plt.plot(fpr, tpr)\n",
    "plt.plot([0, 1], ls=\"--\")\n",
    "plt.plot([0, 0], [1, 0] , c=\".7\"), plt.plot([1, 1] , c=\".7\")\n",
    "plt.ylabel('Taxa de Verdadeiro Positivo')\n",
    "plt.xlabel('Taxa de Falso Positivo')\n",
    "plt.show()"
   ]
  },
  {
   "cell_type": "markdown",
   "metadata": {},
   "source": [
    "* Taxa de verdadeiros positivos e falsos positivos pela probabilidade de corte na classificação da observação"
   ]
  },
  {
   "cell_type": "code",
   "execution_count": 57,
   "metadata": {},
   "outputs": [
    {
     "data": {
      "text/plain": [
       "<matplotlib.legend.Legend at 0x2860af64e48>"
      ]
     },
     "execution_count": 57,
     "metadata": {},
     "output_type": "execute_result"
    },
    {
     "data": {
      "image/png": "[encoded data removed]",
      "text/plain": [
       "<Figure size 432x288 with 1 Axes>"
      ]
     },
     "metadata": {
      "needs_background": "light"
     },
     "output_type": "display_data"
    }
   ],
   "source": [
    "fig, ax = plt.subplots(1,1)\n",
    "plt.title('TPR e FPR vs Probabilidade de Corte')\n",
    "plt.ylabel('Taxa')\n",
    "plt.xlabel('Probabilidade de Corte')\n",
    "plt.plot(threshold, tpr, color='blue', linewidth=2, label = 'TPR')\n",
    "plt.plot(threshold, fpr, color='red', linewidth=2, label = 'FPR')\n",
    "plt.legend()"
   ]
  },
  {
   "cell_type": "code",
   "execution_count": 58,
   "metadata": {},
   "outputs": [],
   "source": [
    "#Classificando como Nota maior que 550 as observações com probabilidade maior que 50% de ser desta categoria\n",
    "y_score = np.where(y_score > 0.5, 1, 0)"
   ]
  },
  {
   "cell_type": "code",
   "execution_count": 59,
   "metadata": {
    "scrolled": true
   },
   "outputs": [
    {
     "data": {
      "text/plain": [
       "(828, 62, 129, 651)"
      ]
     },
     "execution_count": 59,
     "metadata": {},
     "output_type": "execute_result"
    }
   ],
   "source": [
    "#Calculando verdadeiros e falsos positivos e negativos com base no corte/classificaçao anterior\n",
    "from sklearn.metrics import confusion_matrix\n",
    "tn, fp, fn, tp = confusion_matrix(y_test,y_score).ravel()\n",
    "(tn, fp, fn, tp)"
   ]
  },
  {
   "cell_type": "code",
   "execution_count": null,
   "metadata": {},
   "outputs": [],
   "source": []
  }
 ],
 "metadata": {
  "kernelspec": {
   "display_name": "Python 3",
   "language": "python",
   "name": "python3"
  },
  "language_info": {
   "codemirror_mode": {
    "name": "ipython",
    "version": 3
   },
   "file_extension": ".py",
   "mimetype": "text/x-python",
   "name": "python",
   "nbconvert_exporter": "python",
   "pygments_lexer": "ipython3",
   "version": "3.7.1"
  }
 },
 "nbformat": 4,
 "nbformat_minor": 4
}
